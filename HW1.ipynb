{
 "cells": [
  {
   "cell_type": "markdown",
   "metadata": {},
   "source": [
    "## Домашнее задание 1\n",
    "\n",
    "### Вариант 5\n",
    "\n",
    "**Выполнила** Шарыпина Даша, гр. 6382"
   ]
  },
  {
   "cell_type": "markdown",
   "metadata": {},
   "source": [
    "### Задание 1\n",
    "\n",
    "Выписать первый дифференциал для функций:"
   ]
  },
  {
   "cell_type": "markdown",
   "metadata": {},
   "source": [
    "1. $f(X) = \\mathrm{tr}\\: (X^p), \\quad X \\in \\mathbb{R}^{n \\times n}$\n",
    "\n",
    "Градиент:\n",
    "$\\nabla f(X) = p(X^{p-1})^T$"
   ]
  },
  {
   "cell_type": "markdown",
   "metadata": {},
   "source": [
    "***Численная проверка градиента***"
   ]
  },
  {
   "cell_type": "code",
   "execution_count": 363,
   "metadata": {},
   "outputs": [],
   "source": [
    "import numpy as np\n",
    "from numpy.linalg import norm, matrix_power\n",
    "\n",
    "# function\n",
    "def f1(X, p):\n",
    "    res = matrix_power(X, p)\n",
    "    return np.trace(res)\n",
    "\n",
    "# gradient \n",
    "def fgrad1(X, p):\n",
    "    X_pow = matrix_power(X, p-1)\n",
    "    res = p*X_pow.transpose()\n",
    "    return res\n",
    "\n",
    "def approx_grad1(f, X0, p):\n",
    "    epsilon = 1e-4\n",
    "    dim = X0.shape[0]\n",
    "    grad = np.zeros((dim, dim))\n",
    "    ei = np.zeros((dim, dim))\n",
    "    for i in range(dim):\n",
    "        for j in range(dim):\n",
    "            ei[i][j] = epsilon\n",
    "            grad[i][j] = (f1(X0 + ei, p) - f1(X0 - ei, p))/(2.*epsilon)\n",
    "            ei[i][j] = 0.0\n",
    "    return grad\n",
    "    \n",
    "def check_gradient1(f, gradf, X0, p):\n",
    "    num_grad = approx_grad1(f, X0, p)\n",
    "    theory_grad = gradf(X0, p)\n",
    "    diff = norm(num_grad - theory_grad)/norm(num_grad + theory_grad)\n",
    "    return diff"
   ]
  },
  {
   "cell_type": "code",
   "execution_count": 364,
   "metadata": {},
   "outputs": [
    {
     "name": "stdout",
     "output_type": "stream",
     "text": [
      "diff = 7.250503031749267e-10\n"
     ]
    }
   ],
   "source": [
    "n = 5\n",
    "X = np.random.randn(n, n)\n",
    "p = 4\n",
    "print('diff =', check_gradient1(f1, fgrad1, X, p))"
   ]
  },
  {
   "cell_type": "markdown",
   "metadata": {},
   "source": [
    "2. $f(x) = \\frac{1}{2} \\| xx^T - A\\|^2_F, \\quad x \\in \\mathbb{R}^n$\n",
    "\n",
    "Градиент: $\\nabla f(x) = 2xx^Tx - (A + A^T)x$\n",
    "\n",
    "***Численная проверка градиента***"
   ]
  },
  {
   "cell_type": "code",
   "execution_count": 365,
   "metadata": {},
   "outputs": [
    {
     "name": "stdout",
     "output_type": "stream",
     "text": [
      "diff = 8.336347393074003e-07\n"
     ]
    }
   ],
   "source": [
    "from scipy.optimize import check_grad\n",
    "\n",
    "def f2(x, A):\n",
    "    u = np.outer(x, x) - A\n",
    "    res = 0.5*(norm(u, 'fro')**2)\n",
    "    return res\n",
    "\n",
    "def fgrad2(x, A):\n",
    "    return 2.*x*norm(x)**2 - np.dot(A+A.T,x)\n",
    "\n",
    "f = lambda m : f2(m, U)\n",
    "fg = lambda m : fgrad2(m, U)\n",
    "\n",
    "n = 5\n",
    "U = np.random.randn(n, n)\n",
    "x = np.random.randn(n,)\n",
    "\n",
    "print('diff =', check_grad(f, fg, x))"
   ]
  },
  {
   "cell_type": "markdown",
   "metadata": {},
   "source": [
    "### Задание 2\n",
    "\n",
    "1. Пользуясь библиотекой `NetworkX` задать графы вычислений для данных функций.\n",
    "\n",
    "2. Реализовать необходимые `VJP` для элементарных функций в узлах вычислений.\n",
    "\n",
    "3. Воспользоваться `make_function_and_gradient()` для получения функций, которые возвращают значения $f(x)$ и $ \\nabla f(x)$ для произвольного аргумента $x$.\n",
    "\n",
    "4. Сделать численную проверку градиента, а также сравнить с аналогичной функцией, полученной с помощью библиотеки `autograd`."
   ]
  },
  {
   "cell_type": "code",
   "execution_count": 366,
   "metadata": {},
   "outputs": [
    {
     "name": "stdout",
     "output_type": "stream",
     "text": [
      "Collecting https://github.com/HIPS/autograd/archive/master.zip\n",
      "  Downloading https://github.com/HIPS/autograd/archive/master.zip\n",
      "\u001b[K     - 4.5MB 180.8MB/s\n",
      "Requirement already satisfied (use --upgrade to upgrade): autograd==1.2 from https://github.com/HIPS/autograd/archive/master.zip in /home/dasha/anaconda3/lib/python3.7/site-packages\n",
      "Requirement already satisfied: numpy>=1.12 in /home/dasha/anaconda3/lib/python3.7/site-packages (from autograd==1.2) (1.15.4)\n",
      "Requirement already satisfied: future>=0.15.2 in /home/dasha/anaconda3/lib/python3.7/site-packages (from autograd==1.2) (0.17.1)\n",
      "Building wheels for collected packages: autograd\n",
      "  Building wheel for autograd (setup.py) ... \u001b[?25ldone\n",
      "\u001b[?25h  Stored in directory: /tmp/pip-ephem-wheel-cache-yfjytexu/wheels/1d/cf/71/e88cbaeb7af1fdd864ada20886075a6ffbc935d3b4eaf06a9a\n",
      "Successfully built autograd\n"
     ]
    }
   ],
   "source": [
    "!pip install https://github.com/HIPS/autograd/archive/master.zip"
   ]
  },
  {
   "cell_type": "code",
   "execution_count": 367,
   "metadata": {},
   "outputs": [
    {
     "name": "stdout",
     "output_type": "stream",
     "text": [
      "Requirement already up-to-date: tensorly in /home/dasha/anaconda3/lib/python3.7/site-packages (0.4.3)\n",
      "Requirement already satisfied, skipping upgrade: nose in /home/dasha/anaconda3/lib/python3.7/site-packages (from tensorly) (1.3.7)\n",
      "Requirement already satisfied, skipping upgrade: numpy in /home/dasha/anaconda3/lib/python3.7/site-packages (from tensorly) (1.15.4)\n",
      "Requirement already satisfied, skipping upgrade: scipy in /home/dasha/anaconda3/lib/python3.7/site-packages (from tensorly) (1.1.0)\n"
     ]
    }
   ],
   "source": [
    "!pip install -U tensorly"
   ]
  },
  {
   "cell_type": "code",
   "execution_count": 368,
   "metadata": {},
   "outputs": [],
   "source": [
    "import autograd.numpy as anp\n",
    "\n",
    "from autograd.scipy.misc import logsumexp\n",
    "from autograd.scipy.signal import convolve\n",
    "\n",
    "def softmax(x):    return anp.exp(x - logsumexp(x))\n",
    "def softplus(x):   return anp.logaddexp(0., x)\n",
    "def sigmoid(x):    return anp.reciprocal(anp.exp(softplus(-x)))\n",
    "def flip(x):       return x[::-1]"
   ]
  },
  {
   "cell_type": "code",
   "execution_count": 369,
   "metadata": {},
   "outputs": [],
   "source": [
    "def subassign(x, y, idx_dst, idx_src):\n",
    "    assert(len(idx_dst) == len(idx_src))\n",
    "    z = x.copy()\n",
    "    z[idx_dst] = y[idx_src]\n",
    "    return z"
   ]
  },
  {
   "cell_type": "code",
   "execution_count": 370,
   "metadata": {},
   "outputs": [],
   "source": [
    "primitive_functions_dict = dict()\n",
    "\n",
    "primitive_functions_dict['powexp'] = lambda x,y: np.power(x,y)\n",
    "primitive_functions_dict['sin'] = lambda x: np.sin(x)\n",
    "primitive_functions_dict['subassign'] = lambda x,y,idx_dst,idx_src: subassign(x, y, idx_dst, idx_src)\n",
    "primitive_functions_dict['logsumexp'] = lambda x: logsumexp(x)\n",
    "primitive_functions_dict['sigmoid'] = lambda x: sigmoid(x)"
   ]
  },
  {
   "cell_type": "code",
   "execution_count": 372,
   "metadata": {},
   "outputs": [],
   "source": [
    "def vjp_subassign(vec, ans, x, y, idx_dst, idx_src):\n",
    "    n = x.shape[0]\n",
    "    m = y.shape[0]\n",
    "    res_x = np.zeros(n)\n",
    "    res_y = np.zeros(m)\n",
    "    idx_x = np.array(range(0, n))\n",
    "    res_idx = np.array(list(set(idx_x) - set(idx_dst)))\n",
    "    res_x[res_idx] = vec[res_idx]\n",
    "    res_y[idx_src] = vec[idx_dst]\n",
    "    return [res_x, res_y]"
   ]
  },
  {
   "cell_type": "code",
   "execution_count": 373,
   "metadata": {},
   "outputs": [],
   "source": [
    "vjps_dict = dict()\n",
    "\n",
    "vjps_dict['sin'] = lambda vec, ans, x: [vec*np.cos(x)]\n",
    "vjps_dict['powexp'] = lambda vec, ans, x, p: [vec*p*np.power(x,p-1), vec*np.log(x)*ans]\n",
    "vjps_dict['sigmoid'] = lambda vec, ans, x: [vec*ans*(1-ans)]\n",
    "vjps_dict['logsumexp'] = lambda vec, ans, x: [vec*np.exp(x)/sum(np.exp(x))]\n",
    "vjps_dict['subassign'] = lambda vec, ans, x, y, idx_dst, idx_src: vjp_subassign(vec, ans, x, y, idx_dst, idx_src)"
   ]
  },
  {
   "cell_type": "code",
   "execution_count": 374,
   "metadata": {},
   "outputs": [],
   "source": [
    "def make_function_and_gradient(computational_graph):\n",
    "    \n",
    "    nodes_sorted = list(nx.topological_sort(computational_graph))\n",
    "    end_node = nodes_sorted[-1]\n",
    "    \n",
    "    def function(x):\n",
    "        graph = computational_graph.copy()\n",
    "        forward_pass(x, graph, nodes_sorted)\n",
    "        f_x = graph.node[end_node]['value']\n",
    "        return f_x\n",
    "    \n",
    "    def gradient(x):\n",
    "        graph = computational_graph.copy()\n",
    "        forward_pass(x, graph, nodes_sorted)\n",
    "        g_x = backward_pass(graph, nodes_sorted)\n",
    "        return g_x\n",
    "    \n",
    "    return function, gradient"
   ]
  },
  {
   "cell_type": "markdown",
   "metadata": {},
   "source": [
    "**Прямой проход**"
   ]
  },
  {
   "cell_type": "code",
   "execution_count": 375,
   "metadata": {},
   "outputs": [],
   "source": [
    "def forward_pass(x, graph, nodes_sorted):\n",
    "           \n",
    "    for node in nodes_sorted:\n",
    "        func = graph.nodes[node]['function']\n",
    "        parents = graph.nodes[node]['parents']\n",
    "        args = []\n",
    "        for p in parents:\n",
    "            args.append(graph.nodes[p]['value'])\n",
    "        if 'params' in graph.nodes[node]:\n",
    "            args = args + [*graph.nodes[node]['params']]\n",
    "        if len(args) > 0:\n",
    "            graph.nodes[node]['value'] = primitive_functions_dict[func](*args)\n",
    "        else:\n",
    "            graph.nodes[node]['value'] = x\n",
    "            "
   ]
  },
  {
   "cell_type": "markdown",
   "metadata": {},
   "source": [
    "**Обратный проход**"
   ]
  },
  {
   "cell_type": "code",
   "execution_count": 376,
   "metadata": {},
   "outputs": [],
   "source": [
    "def add_jacs(prev_jac, jac):\n",
    "    if prev_jac is None:\n",
    "        return jac\n",
    "    else:\n",
    "        return prev_jac + jac\n",
    "\n",
    "def backward_pass(graph, nodes_sorted):\n",
    "    \n",
    "    nodes_sorted_backward = nodes_sorted[::-1]\n",
    "    end_node = nodes_sorted_backward[0]\n",
    "    jacs = {end_node: 1.0}\n",
    "    \n",
    "    for node in nodes_sorted_backward:\n",
    "        func = graph.nodes[node]['function']\n",
    "        value = graph.nodes[node]['value']\n",
    "        parents = graph.nodes[node]['parents']        \n",
    "        jac = jacs.pop(node)        \n",
    "        args = []\n",
    "        for p in parents:\n",
    "            args.append(graph.nodes[p]['value'])\n",
    "        if 'params' in graph.nodes[node]:\n",
    "            args = args + [*graph.nodes[node]['params']]           \n",
    "        if len(args) > 0:\n",
    "            parent_jacs = vjps_dict[func](jac, value, *args)\n",
    "        for i in range(len(parents)): \n",
    "            p = parents[i]\n",
    "            jacs.update({p: add_jacs(jacs.get(p), parent_jacs[i])})           \n",
    "    return jac\n"
   ]
  },
  {
   "cell_type": "markdown",
   "metadata": {},
   "source": [
    "_________________________________________________"
   ]
  },
  {
   "cell_type": "markdown",
   "metadata": {},
   "source": [
    "1. `function_5`\n",
    "\n",
    "Определение функции:"
   ]
  },
  {
   "cell_type": "code",
   "execution_count": 378,
   "metadata": {},
   "outputs": [],
   "source": [
    "idx1 = np.array([2,4,5])\n",
    "idx2 = np.array([0,1,3])\n",
    "\n",
    "def function_5(x):\n",
    "    u = sigmoid(x)\n",
    "    v = anp.sin(x)\n",
    "    w = anp.power(u,v)\n",
    "    w[idx1] = x[idx2]\n",
    "    return logsumexp(w)"
   ]
  },
  {
   "cell_type": "markdown",
   "metadata": {},
   "source": [
    "Зададим граф вычислений для функции:"
   ]
  },
  {
   "cell_type": "code",
   "execution_count": 379,
   "metadata": {},
   "outputs": [],
   "source": [
    "import networkx as nx\n",
    "\n",
    "G = nx.DiGraph()\n",
    "nodes = range(0, 6)\n",
    "G.add_nodes_from(nodes)\n",
    "\n",
    "attrs = {0: {'function': None, 'value': None, 'parents': []}, \n",
    "         1: {'function': 'sigmoid', 'value': None, 'parents': [0]},\n",
    "         2: {'function': 'sin', 'value': None, 'parents': [0]}, \n",
    "         3: {'function': 'powexp', 'value': None, 'parents': [1, 2]}, \n",
    "         4: {'function': 'subassign', 'value': None, 'parents': [3, 0], 'params': [idx1, idx2]},\n",
    "         5: {'function': 'logsumexp', 'value': None, 'parents': [4]}}\n",
    "nx.set_node_attributes(G, attrs)\n",
    "\n",
    "G.add_edges_from([(0,1),(0,2),(1,3),(2,3),(3,4),(0, 4),(4,5)])"
   ]
  },
  {
   "cell_type": "markdown",
   "metadata": {},
   "source": [
    "Визуализация:"
   ]
  },
  {
   "cell_type": "code",
   "execution_count": 266,
   "metadata": {
    "scrolled": true
   },
   "outputs": [
    {
     "data": {
      "image/png": "[encoded data removed]",
      "text/plain": [
       "<Figure size 432x288 with 1 Axes>"
      ]
     },
     "metadata": {
      "needs_background": "light"
     },
     "output_type": "display_data"
    }
   ],
   "source": [
    "import matplotlib as mpl\n",
    "import matplotlib.pyplot as plt\n",
    "nx.draw_networkx(G, node_size = 500, node_color = 'lightblue')\n",
    "plt.axis('off')\n",
    "plt.show()"
   ]
  },
  {
   "cell_type": "markdown",
   "metadata": {},
   "source": [
    "Получение функций, которые вычисляют $f(x)$ и $\\nabla f(x)$"
   ]
  },
  {
   "cell_type": "code",
   "execution_count": 380,
   "metadata": {},
   "outputs": [],
   "source": [
    "function, gradient = make_function_and_gradient(G)"
   ]
  },
  {
   "cell_type": "markdown",
   "metadata": {},
   "source": [
    "Проверка корректности вычсления $f(x)$"
   ]
  },
  {
   "cell_type": "code",
   "execution_count": 381,
   "metadata": {
    "scrolled": true
   },
   "outputs": [
    {
     "name": "stdout",
     "output_type": "stream",
     "text": [
      "2.8654494342312984\n",
      "2.8654494342312984\n",
      "Difference: 0.0\n"
     ]
    }
   ],
   "source": [
    "dim = 6\n",
    "x = np.random.randn(dim,)\n",
    "\n",
    "f_true = function_5(x)\n",
    "f = function(x)\n",
    "\n",
    "print(f_true)\n",
    "print(f)\n",
    "print('Difference:', np.abs(f_true - f))"
   ]
  },
  {
   "cell_type": "markdown",
   "metadata": {},
   "source": [
    "Проверка корректности вычисления $\\nabla f(x)$.\n",
    "т.к. `autograd` не поддерживает `subassign`, будем использовать численную проверку `check_grad`"
   ]
  },
  {
   "cell_type": "code",
   "execution_count": 382,
   "metadata": {},
   "outputs": [
    {
     "name": "stdout",
     "output_type": "stream",
     "text": [
      "diff =  1.9372831477211464e-08\n"
     ]
    }
   ],
   "source": [
    "from scipy.optimize import check_grad\n",
    "difference = check_grad(function, gradient, x)\n",
    "print(\"diff = \", difference)"
   ]
  },
  {
   "cell_type": "markdown",
   "metadata": {},
   "source": [
    "Таким образом, градиент вычислен верно."
   ]
  },
  {
   "cell_type": "markdown",
   "metadata": {},
   "source": [
    "___________________________________________________________________"
   ]
  },
  {
   "cell_type": "markdown",
   "metadata": {},
   "source": [
    "2. `function_12`\n",
    "\n",
    "Определение функции:"
   ]
  },
  {
   "cell_type": "code",
   "execution_count": 384,
   "metadata": {},
   "outputs": [],
   "source": [
    "idx_1 = [2,1,0]\n",
    "idx_2 = [0,1,2]\n",
    "\n",
    "def function_12(x):\n",
    "    u = softplus(x)\n",
    "    v = anp.cumsum(u)\n",
    "    u[idx_1] = v[idx_2]\n",
    "    return anp.inner(u,v)"
   ]
  },
  {
   "cell_type": "markdown",
   "metadata": {},
   "source": [
    "Добавим в `primitive_function_dict` необходимые функции:"
   ]
  },
  {
   "cell_type": "code",
   "execution_count": 385,
   "metadata": {},
   "outputs": [],
   "source": [
    "primitive_functions_dict['softplus'] = lambda x: softplus(x)\n",
    "primitive_functions_dict['inner'] = lambda x,y: np.inner(x,y)\n",
    "primitive_functions_dict['cumsum'] = lambda x: np.cumsum(x)"
   ]
  },
  {
   "cell_type": "markdown",
   "metadata": {},
   "source": [
    "Добавим в `vjps_dict` необходимые `vjp`:"
   ]
  },
  {
   "cell_type": "code",
   "execution_count": 387,
   "metadata": {},
   "outputs": [],
   "source": [
    "vjps_dict['inner'] = lambda vec, ans, x, y: [vec*y, vec*x]\n",
    "vjps_dict['cumsum'] = lambda vec, ans, x: [np.flipud(np.cumsum(np.flipud(vec)))]\n",
    "vjps_dict['softplus'] = lambda vec, ans, x: [vec*sigmoid(x)]"
   ]
  },
  {
   "cell_type": "markdown",
   "metadata": {},
   "source": [
    "Зададим граф вычислений:"
   ]
  },
  {
   "cell_type": "code",
   "execution_count": 388,
   "metadata": {},
   "outputs": [],
   "source": [
    "G = nx.DiGraph()\n",
    "nodes = range(0, 5)\n",
    "G.add_nodes_from(nodes)\n",
    "\n",
    "attrs = {0: {'function': None, 'value': None, 'parents': []}, \n",
    "         1: {'function': 'softplus', 'value': None, 'parents': [0]},\n",
    "         2: {'function': 'cumsum', 'value': None, 'parents': [1]}, \n",
    "         3: {'function': 'subassign', 'value': None, 'parents': [1, 2], 'params': [idx_1, idx_2]}, \n",
    "         4: {'function': 'inner', 'value': None, 'parents': [2, 3]}}\n",
    "nx.set_node_attributes(G, attrs)\n",
    "\n",
    "G.add_edges_from([(0,1),(1,2),(1,3),(2,3),(2,4),(3, 4)])"
   ]
  },
  {
   "cell_type": "code",
   "execution_count": 389,
   "metadata": {},
   "outputs": [],
   "source": [
    "function, gradient = make_function_and_gradient(G)"
   ]
  },
  {
   "cell_type": "code",
   "execution_count": 390,
   "metadata": {},
   "outputs": [
    {
     "name": "stdout",
     "output_type": "stream",
     "text": [
      "19.2014030018048\n",
      "19.2014030018048\n",
      "Difference: 0.0\n"
     ]
    }
   ],
   "source": [
    "dim = 6\n",
    "x = np.random.randn(dim,)\n",
    "\n",
    "f_true = function_12(x)\n",
    "f = function(x)\n",
    "\n",
    "print(f_true)\n",
    "print(f)\n",
    "print('Difference:', np.abs(f_true - f))"
   ]
  },
  {
   "cell_type": "markdown",
   "metadata": {},
   "source": [
    "Проверка корректности вычисления $\\nabla f(x)$\n",
    "т.к. `autograd` не поддержвает `subassign`, будем использовать численное приближение градиента `check_grad`"
   ]
  },
  {
   "cell_type": "code",
   "execution_count": 391,
   "metadata": {},
   "outputs": [
    {
     "name": "stdout",
     "output_type": "stream",
     "text": [
      "2.702147165494609e-07\n"
     ]
    }
   ],
   "source": [
    "from scipy.optimize import check_grad\n",
    "difference = check_grad(function, gradient, x)\n",
    "print(difference)"
   ]
  },
  {
   "cell_type": "markdown",
   "metadata": {},
   "source": [
    "Таким образом, градиент вычислен верно."
   ]
  },
  {
   "cell_type": "markdown",
   "metadata": {},
   "source": [
    "### Задание 3\n",
    "Реализовать вычисление градиента функции `function_with_conv()` из\n",
    "`automatic_differentiation_example.ipynb` используя библиотеку `autograd`. Так как функция свертки `convolve(a,b, mode='same')` не реализована в autograd, необходимо представить функцию `function_with_conv()` как композицию 3-х отображений: $f = f_2 \\circ \\mathrm{convolve} \\circ f_1$. Градиент функции $f$ можно получить реализовав `VJP` для свертки и использовав `autograd` для нахождения\n",
    "производных $f_2$ и $f_1$. Сделать численную проверку градиента, чтобы убедиться в корректности реализации."
   ]
  },
  {
   "cell_type": "markdown",
   "metadata": {},
   "source": [
    "Исходная функция `function_with_conv()`:"
   ]
  },
  {
   "cell_type": "code",
   "execution_count": 313,
   "metadata": {},
   "outputs": [],
   "source": [
    "def function_with_conv(x):\n",
    "    a = flip(x)\n",
    "    b = anp.sin(x)\n",
    "    c = a/b\n",
    "    \n",
    "    d = np.convolve(c, np.array([1,-2,1]), mode='same')\n",
    "    \n",
    "    e = 1./softmax(d)\n",
    "    return anp.inner(e,e)"
   ]
  },
  {
   "cell_type": "markdown",
   "metadata": {},
   "source": [
    "Представим $f(x)$ в виде $f(x) = f_2 \\circ \\mathrm{convolve} \\circ f_1$.\n",
    "\n",
    "Определелим соответствующие функции:"
   ]
  },
  {
   "cell_type": "code",
   "execution_count": 351,
   "metadata": {},
   "outputs": [],
   "source": [
    "def f1(x):\n",
    "    a = flip(x)\n",
    "    b = anp.sin(x)\n",
    "    return a / b\n",
    "\n",
    "def f2(z):\n",
    "    e = 1./softmax(z)\n",
    "    return anp.inner(e, e)\n",
    "\n",
    "def conv(y):\n",
    "    return np.convolve(y, np.array([1, -2, 1]), mode='same')"
   ]
  },
  {
   "cell_type": "markdown",
   "metadata": {},
   "source": [
    "Определим `VJP` для `conv`:"
   ]
  },
  {
   "cell_type": "markdown",
   "metadata": {},
   "source": [
    "Матрица Якоби.\n",
    "\n",
    "$\\mathrm{convolve}$ можно представить в виде матричного произведения, если один из аргументов представить в виде матрицы Toeplitz\n",
    "\n",
    "В данном случае имеем: \n",
    "\n",
    "\\begin{equation*}\n",
    "    \\mathrm{convolve}(x, (1, -2, 1)) =\n",
    "        \\begin{pmatrix}\n",
    "            x_1 & 0 & 0\\\\\n",
    "            x_2 & x_1 & 0\\\\\n",
    "            x_3 & x_2 & x_1\\\\\n",
    "            \\vdots & x_3 & \\vdots\\\\\n",
    "            x_{n-1} & \\vdots & \\vdots \\\\\n",
    "            x_{n} & x_{n-1} & x_{n-2}\\\\\n",
    "            0 & x_n &  x_{n-1}\\\\\n",
    "            0 & 0 & x_n\\\\\n",
    "        \\end{pmatrix}\n",
    "        \\cdot\n",
    "        \\begin{pmatrix}\n",
    "            1\\\\\n",
    "            -2\\\\\n",
    "            1\n",
    "        \\end{pmatrix}\n",
    "\\end{equation*}\n",
    "\n",
    "Размерность $x$: $n$.\n",
    "Размерность $x$ в виде матрицы Toeplitz: $(n + 2) \\times 3$.\n",
    "\n",
    "В таком случае матрица Якоби имеет вид:\n",
    "\n",
    "\\begin{equation*}\n",
    "        J =\n",
    "        \\begin{pmatrix}\n",
    "            1 & 0 & \\dots & 0\\\\\n",
    "            -2 & 1 & \\dots & 0\\\\\n",
    "            1 & -2 & \\dots& 0\\\\\n",
    "            \\vdots & 1 & \\dots & 0\\\\\n",
    "            0 & \\vdots & \\vdots & 0 \\\\\n",
    "            0 & 0 & \\dots& 1\\\\\n",
    "            0 & 0 &  \\dots & -2\\\\\n",
    "            0 & 0 & \\dots & 1\\\\\n",
    "        \\end{pmatrix}\n",
    "\\end{equation*}\n",
    "\n",
    "Размерность матрицы Якоби: $(n+2) \\times n$\n",
    "\n",
    "т.к. используется `mode = 'same'`, то первая и последняя строки матрицы не участвуют в вычислениях. И размерность получается $n \\times n$"
   ]
  },
  {
   "cell_type": "code",
   "execution_count": 352,
   "metadata": {},
   "outputs": [],
   "source": [
    "def vjp_conv(v, x):\n",
    "    n = len(x)\n",
    "    res = np.zeros(n)\n",
    "    for i in range(1, n - 1):\n",
    "        res[i] = v[i-1] + (-2) * v[i] + v[i+1]\n",
    "    res[0] = (-2) * v[0] + v[1]\n",
    "    res[n-1] = v[n-2] + (-2) * v[n-1]\n",
    "    return res"
   ]
  },
  {
   "cell_type": "markdown",
   "metadata": {},
   "source": [
    "$y = f_1(x)$\n",
    "\n",
    "$z = \\mathrm{conv}(y)$\n",
    "\n",
    "$f = f_2(z)$\n",
    "\n",
    "$(\\nabla f)^T(x) = J_{f_2}(z)J_{\\mathrm{conv}}(y)J_{f_1}(x)$"
   ]
  },
  {
   "cell_type": "code",
   "execution_count": 356,
   "metadata": {},
   "outputs": [],
   "source": [
    "from autograd import jacobian, grad\n",
    "\n",
    "def fgrad(x):\n",
    "    J_f1 = jacobian(f1)(x)\n",
    "    J_f2 = jacobian(f2)(conv(f1(x)))\n",
    "    vjp = vjp_conv(J_f2, f1(x))\n",
    "    res = np.dot(vjp, J_f1)\n",
    "    return res"
   ]
  },
  {
   "cell_type": "code",
   "execution_count": 362,
   "metadata": {},
   "outputs": [
    {
     "name": "stdout",
     "output_type": "stream",
     "text": [
      "diff =  2.1916440583696234e-08\n"
     ]
    }
   ],
   "source": [
    "def approx_grad(f, x0):\n",
    "    epsilon = 1e-5\n",
    "    dim = len(x0)\n",
    "    grad = np.zeros((dim,)).T\n",
    "    ei   = np.zeros((dim,)).T\n",
    "    for k in range(dim):\n",
    "        ei[k] = epsilon\n",
    "        grad[k] = (f(x0 + ei) - f(x0 - ei))/(2.*epsilon)\n",
    "        ei[k] = 0.0\n",
    "    return grad\n",
    "\n",
    "def check_gradient(f, gradf, x0):\n",
    "    num_grad = approx_grad(f, x0);\n",
    "    anal_grad = gradf(x0);\n",
    "    diff = norm(num_grad - anal_grad)/norm(num_grad + anal_grad)\n",
    "    return diff\n",
    "\n",
    "dim = 6\n",
    "x = np.random.randn(dim,)\n",
    "print(\"diff = \", check_gradient(function_with_conv, fgrad, x))"
   ]
  },
  {
   "cell_type": "markdown",
   "metadata": {},
   "source": [
    "Таким образом, численная проверка градиента показывает, что градиент вычислен верно."
   ]
  },
  {
   "cell_type": "markdown",
   "metadata": {},
   "source": [
    "### Задание 5\n",
    "Найти решение задачи оптимизации $\\min_{x \\in S} f(x)$, где множество допустимых решений $S \\subset\\mathbb{R}^2$ задано системой неравенств, а целевая функция является линейной. Визуализировать $S$ на основе примера из описания `scipy.spatial.HalfspaceIntersection`."
   ]
  },
  {
   "cell_type": "markdown",
   "metadata": {},
   "source": [
    "$$f(x) = -3x_1 - 2x_2$$\n",
    "\n",
    "\\begin{equation*}\n",
    " \\begin{cases}\n",
    "   x_1 + x_2 \\leq 6\\\\\n",
    "   x_1 - 2x_2 \\leq 4\\\\\n",
    "   x_1 \\geq 3\\\\\n",
    "   x_2 \\geq 0\n",
    " \\end{cases}\n",
    "\\end{equation*}"
   ]
  },
  {
   "cell_type": "markdown",
   "metadata": {},
   "source": [
    "Визуализация $S$:"
   ]
  },
  {
   "cell_type": "code",
   "execution_count": 3,
   "metadata": {},
   "outputs": [
    {
     "data": {
      "text/plain": [
       "[<matplotlib.lines.Line2D at 0x7f68b8cefe10>]"
      ]
     },
     "execution_count": 3,
     "metadata": {},
     "output_type": "execute_result"
    },
    {
     "data": {
      "image/png": "[encoded data removed]",
      "text/plain": [
       "<Figure size 432x288 with 1 Axes>"
      ]
     },
     "metadata": {
      "needs_background": "light"
     },
     "output_type": "display_data"
    }
   ],
   "source": [
    "from scipy.spatial import HalfspaceIntersection\n",
    "from scipy.optimize import linprog\n",
    "from matplotlib.patches import Circle\n",
    "import numpy as np\n",
    "\n",
    "halfspaces = np.array([[-1, 0., 3.],\n",
    "                       [0., -1., 0.],\n",
    "                       [1., 1., -6.],\n",
    "                       [1., -2., -4.]])\n",
    "\n",
    "norm_vector = np.reshape(np.linalg.norm(halfspaces[:, :-1], axis=1),\n",
    "    (halfspaces.shape[0], 1))\n",
    "c = np.zeros((halfspaces.shape[1],))\n",
    "c[-1] = -1\n",
    "A = np.hstack((halfspaces[:, :-1], norm_vector))\n",
    "b = - halfspaces[:, -1:]\n",
    "res = linprog(c, A_ub=A, b_ub=b)\n",
    "x = res.x[:-1]\n",
    "\n",
    "feasible_point = np.array(x)\n",
    "hs = HalfspaceIntersection(halfspaces, feasible_point)\n",
    "\n",
    "# Plot halfspaces as filled regions and intersection points:\n",
    "\n",
    "import matplotlib.pyplot as plt\n",
    "\n",
    "fig = plt.figure()\n",
    "ax = fig.add_subplot('111', aspect='equal')\n",
    "xlim, ylim = (-1, 8), (-3, 6)\n",
    "ax.set_xlim(xlim)\n",
    "ax.set_ylim(ylim)\n",
    "x = np.linspace(-1, 8, 100)\n",
    "symbols = ['-', '+', 'x', '*']\n",
    "signs = [0, 0, -1, 0]\n",
    "fmt = {\"color\": \"green\", \"edgecolor\": \"b\", \"alpha\": 0.2}\n",
    "for h, sym, sign in zip(halfspaces, symbols, signs):\n",
    "    hlist = h.tolist()\n",
    "    fmt[\"hatch\"] = sym\n",
    "    if h[1] == 0:\n",
    "        ax.axvline(-h[2]/h[0], label='{}x+{}y+{}<=0'.format(*hlist))\n",
    "        xi = np.linspace(xlim[sign], -h[2]/h[0], 100)\n",
    "        ax.fill_between(xi, ylim[0], ylim[1], **fmt)\n",
    "    else:\n",
    "        ax.plot(x, (-h[2]-h[0]*x)/h[1], label='{}x+{}y+{}<=0'.format(*hlist))\n",
    "        ax.fill_between(x, (-h[2]-h[0]*x)/h[1], ylim[sign], **fmt)\n",
    "x, y = zip(*hs.intersections)\n",
    "#plt.legend(bbox_to_anchor=(2, 1.0))\n",
    "ax.plot(x, y, 'o', markersize=8)"
   ]
  },
  {
   "cell_type": "markdown",
   "metadata": {},
   "source": [
    "На рисунке выше область $S$ представлена белым четырехугольником."
   ]
  },
  {
   "cell_type": "markdown",
   "metadata": {},
   "source": [
    "Градиент функции: \n",
    "\\begin{equation*}\n",
    "    \\nabla f(x) = \n",
    "    \\begin{pmatrix}\n",
    "        -3\\\\\n",
    "        -2\n",
    "    \\end{pmatrix}\n",
    "\\end{equation*}\n",
    "Чтобы найти минимум функции, нужно двигаться в направлении антиградиента.\n",
    "Так как целевая функция является линейной, а $S$ представляет собой многоугольник, то решение будет находится в вершине многоугольника.\n",
    "Минимум функции будет в самой правой вершине четырехугольника."
   ]
  },
  {
   "cell_type": "markdown",
   "metadata": {},
   "source": [
    "Получим вершины многоугольника:"
   ]
  },
  {
   "cell_type": "code",
   "execution_count": 14,
   "metadata": {},
   "outputs": [
    {
     "name": "stdout",
     "output_type": "stream",
     "text": [
      "[[3.         3.        ]\n",
      " [3.         0.        ]\n",
      " [5.33333333 0.66666667]\n",
      " [4.         0.        ]]\n"
     ]
    }
   ],
   "source": [
    "print(hs.intersections)"
   ]
  },
  {
   "cell_type": "markdown",
   "metadata": {},
   "source": [
    "Таким образом, $\\mathrm{min}_S f(x) = -17\\frac{1}{3}$ функция достигает при $x_1 = 5\\frac{1}{3}, x_2 = \\frac{2}{3}$"
   ]
  }
 ],
 "metadata": {
  "kernelspec": {
   "display_name": "Python 3",
   "language": "python",
   "name": "python3"
  },
  "language_info": {
   "codemirror_mode": {
    "name": "ipython",
    "version": 3
   },
   "file_extension": ".py",
   "mimetype": "text/x-python",
   "name": "python",
   "nbconvert_exporter": "python",
   "pygments_lexer": "ipython3",
   "version": "3.4.3"
  }
 },
 "nbformat": 4,
 "nbformat_minor": 2
}
