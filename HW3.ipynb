{
 "cells": [
  {
   "cell_type": "markdown",
   "metadata": {},
   "source": [
    "## Домашнее задание 3.\n",
    "\n",
    "**Выполнила Шарыпина Даша, гр. 6382**"
   ]
  },
  {
   "cell_type": "markdown",
   "metadata": {},
   "source": [
    "### Задание 1"
   ]
  },
  {
   "cell_type": "code",
   "execution_count": 111,
   "metadata": {},
   "outputs": [],
   "source": [
    "import numpy as np\n",
    "from cvxopt import matrix, solvers"
   ]
  },
  {
   "cell_type": "code",
   "execution_count": 126,
   "metadata": {
    "scrolled": true
   },
   "outputs": [],
   "source": [
    "G = matrix([[2., 1, -2, -1, -1, 0], [-2, -1, 2, 1, 0, -1]])\n",
    "\n",
    "h = matrix([2., 2] + [0]*4)\n",
    "\n",
    "c = matrix([1.]*2)"
   ]
  },
  {
   "cell_type": "code",
   "execution_count": 37,
   "metadata": {},
   "outputs": [
    {
     "name": "stdout",
     "output_type": "stream",
     "text": [
      "     pcost       dcost       gap    pres   dres   k/t\n",
      " 0:  2.7756e-16 -4.0000e+00  1e+01  1e+00  1e+00  1e+00\n",
      " 1:  9.2852e-02 -1.4614e-01  7e-01  2e-01  1e-01  4e-01\n",
      " 2: -5.3842e-03 -2.2695e-02  3e-02  6e-03  6e-03  1e-02\n",
      " 3: -5.2097e-05 -2.2635e-04  3e-04  6e-05  6e-05  1e-04\n",
      " 4: -5.2095e-07 -2.2634e-06  3e-06  6e-07  6e-07  1e-06\n",
      " 5: -5.2095e-09 -2.2634e-08  3e-08  6e-09  6e-09  1e-08\n",
      "Optimal solution found.\n"
     ]
    }
   ],
   "source": [
    "slv = solvers.lp(c, G, h)"
   ]
  },
  {
   "cell_type": "code",
   "execution_count": 38,
   "metadata": {},
   "outputs": [
    {
     "name": "stdout",
     "output_type": "stream",
     "text": [
      "Optimal solution \n",
      " [[-0.]\n",
      " [-0.]]\n"
     ]
    }
   ],
   "source": [
    "print('Optimal solution \\n', np.round(slv['x']))"
   ]
  },
  {
   "cell_type": "markdown",
   "metadata": {},
   "source": [
    "Т.к. $x = x_+ - x_-$, то в результате $x = 0$"
   ]
  },
  {
   "cell_type": "markdown",
   "metadata": {},
   "source": [
    "**Визуализация:**\n",
    "\n",
    "Красная точка - точка $y$\n",
    "\n",
    "Зеленая точка - точка $x^*$\n",
    "\n",
    "Прямая - $\\Phi x$"
   ]
  },
  {
   "cell_type": "code",
   "execution_count": 24,
   "metadata": {},
   "outputs": [
    {
     "data": {
      "text/plain": [
       "[<matplotlib.lines.Line2D at 0x7f777de4ef98>]"
      ]
     },
     "execution_count": 24,
     "metadata": {},
     "output_type": "execute_result"
    },
    {
     "data": {
      "image/png": "[encoded data removed]",
      "text/plain": [
       "<Figure size 432x288 with 1 Axes>"
      ]
     },
     "metadata": {
      "needs_background": "light"
     },
     "output_type": "display_data"
    }
   ],
   "source": [
    "import matplotlib.pyplot as plt\n",
    "ax = plt.subplot(1, 1, 1)\n",
    "plt.plot([-1, 4], [-0.5, 2], color = \"lightblue\")\n",
    "ax.plot(1, 1, \"or\")\n",
    "ax.plot(0, 0, \"or\", color = \"green\")"
   ]
  },
  {
   "cell_type": "markdown",
   "metadata": {},
   "source": [
    "------------------"
   ]
  },
  {
   "cell_type": "markdown",
   "metadata": {},
   "source": [
    "### Задание 2"
   ]
  },
  {
   "cell_type": "markdown",
   "metadata": {},
   "source": [
    "$$\\underset{t, u}{\\min}t$$\n",
    "$$\\mathrm{s.t.}\\quad 1^Tu = t, \\quad u \\geq 0$$\n",
    "$$t \\geq 0$$\n",
    "$$\\Phi P u = y$$"
   ]
  },
  {
   "cell_type": "markdown",
   "metadata": {},
   "source": [
    "\\begin{equation*}\n",
    "x = \n",
    "    \\begin{pmatrix}\n",
    "        t\\\\\n",
    "        u_1\\\\\n",
    "        \\vdots\\\\\n",
    "        u_n\n",
    "    \\end{pmatrix}\n",
    "\\end{equation*}"
   ]
  },
  {
   "cell_type": "code",
   "execution_count": 112,
   "metadata": {},
   "outputs": [],
   "source": [
    "P = np.array([[0., 0], [1, 0], [0, 1], [-1, 1], [-1, 0], [0, -1], [1, -1]]).T\n",
    "F = np.array([[1., 2]])\n",
    "y = 10\n",
    "\n",
    "\n",
    "A = np.dot(F, P)\n",
    "A_ = -A\n",
    "\n",
    "C = np.array([[1.] + [-1]*6])\n",
    "C_ = -C\n",
    "\n",
    "E = -np.eye(7)\n",
    "\n",
    "G = matrix(np.concatenate((A, A_, C, C_, E)))\n",
    "\n",
    "h = matrix([y, -y] + [0.]*9)\n",
    "\n",
    "c = matrix([1.] + [0]*6)"
   ]
  },
  {
   "cell_type": "code",
   "execution_count": 102,
   "metadata": {},
   "outputs": [
    {
     "name": "stdout",
     "output_type": "stream",
     "text": [
      "     pcost       dcost       gap    pres   dres   k/t\n",
      " 0: -1.9230e-16 -0.0000e+00  3e+01  6e-01  3e+00  1e+00\n",
      " 1:  4.1884e+00  4.6652e+00  2e+01  2e-01  9e-01  8e-01\n",
      " 2:  5.2529e+00  5.3158e+00  2e+00  2e-02  1e-01  1e-01\n",
      " 3:  5.0015e+00  5.0026e+00  2e-02  3e-04  1e-03  2e-03\n",
      " 4:  5.0000e+00  5.0000e+00  2e-04  3e-06  1e-05  2e-05\n",
      " 5:  5.0000e+00  5.0000e+00  2e-06  3e-08  1e-07  2e-07\n",
      " 6:  5.0000e+00  5.0000e+00  2e-08  3e-10  1e-09  2e-09\n",
      "Optimal solution found.\n"
     ]
    }
   ],
   "source": [
    "slv = solvers.lp(c, G, h)"
   ]
  },
  {
   "cell_type": "markdown",
   "metadata": {},
   "source": [
    "Решение:"
   ]
  },
  {
   "cell_type": "code",
   "execution_count": 103,
   "metadata": {},
   "outputs": [
    {
     "name": "stdout",
     "output_type": "stream",
     "text": [
      "[[ 5.]\n",
      " [ 0.]\n",
      " [ 5.]\n",
      " [ 0.]\n",
      " [-0.]\n",
      " [-0.]\n",
      " [-0.]]\n"
     ]
    }
   ],
   "source": [
    "print(np.round(slv['x']))"
   ]
  },
  {
   "cell_type": "markdown",
   "metadata": {},
   "source": [
    "Тогда получаем $t = 5$, $x = (0, 5)$"
   ]
  },
  {
   "cell_type": "markdown",
   "metadata": {},
   "source": [
    "Визуализация:"
   ]
  },
  {
   "cell_type": "code",
   "execution_count": 129,
   "metadata": {},
   "outputs": [
    {
     "data": {
      "image/png": "[encoded data removed]",
      "text/plain": [
       "<Figure size 720x720 with 1 Axes>"
      ]
     },
     "metadata": {
      "needs_background": "light"
     },
     "output_type": "display_data"
    }
   ],
   "source": [
    "from IPython.core.pylabtools import figsize\n",
    "from matplotlib.patches import Polygon\n",
    "from matplotlib.collections import PatchCollection\n",
    "\n",
    "figsize(10,10)\n",
    "\n",
    "fig, ax = plt.subplots()\n",
    "patches = []\n",
    "\n",
    "ax.set_xlim([-7, 9])\n",
    "ax.set_ylim([-7, 9])\n",
    "\n",
    "p = 5*np.array([(1, 0), (0, 1), (-1, 1), (-1, 0), (0, -1), (1, -1)])\n",
    "\n",
    "patches.append(Polygon(np.array(p), True))\n",
    "\n",
    "pt = PatchCollection(patches, color=['red'], alpha=0.4)\n",
    "\n",
    "plt.plot([-4, 6], [7, 2], color = \"lightblue\")\n",
    "plt.plot(0, 5, 'or', color = \"green\")\n",
    "ax.add_collection(pt)\n",
    "plt.show()"
   ]
  },
  {
   "cell_type": "markdown",
   "metadata": {},
   "source": [
    "------------"
   ]
  },
  {
   "cell_type": "markdown",
   "metadata": {},
   "source": [
    "### Задание 3"
   ]
  },
  {
   "cell_type": "markdown",
   "metadata": {},
   "source": [
    "Переписать задачу в виде:\n",
    "$$\\underset{x, z}{\\min} f_1(x) + f_2(z)$$\n",
    "$$\\mathrm{s.t.} \\quad Ax + Bz = c$$\n",
    "$$x \\in C_1, z \\in C_2$$\n",
    "\n",
    "Описать и реализовать alternating deriction method of multipliers (ADMM) для решения этой задачи.\n",
    "\n",
    "Параметр $\\rho$ алгоритма ADMM должен быть больше единицы"
   ]
  },
  {
   "cell_type": "code",
   "execution_count": 99,
   "metadata": {},
   "outputs": [],
   "source": [
    "def ADMM(A, B, c, rho = 1, iter_num = 10^3):\n",
    "    x = np.random.randn(1,)\n",
    "    z = np.random.randn(6,)\n",
    "    y = np.zeros(len(c))\n",
    "\n",
    "    for k in range(iter_num):\n",
    "        x = calc_x(z, y, rho)\n",
    "        z = calc_z(A, B, x, y, c, rho)\n",
    "        y = calc_y(A, B, x, z, y, c, rho)\n",
    "        \n",
    "        if norm(np.dot(A, x) + np.dot(B, z) - c) / max(norm(x), norm(z)) < 1e-10:\n",
    "            break\n",
    "       \n",
    "    return np.array([x[0], z[0], z[1], z[2], z[3], z[4], z[5]])"
   ]
  },
  {
   "cell_type": "code",
   "execution_count": 102,
   "metadata": {},
   "outputs": [],
   "source": [
    "def calc_x(z, y, rho):\n",
    "    return np.array([sum(z) - (y[0] + 1.) / rho])"
   ]
  },
  {
   "cell_type": "code",
   "execution_count": 101,
   "metadata": {},
   "outputs": [],
   "source": [
    "def calc_y(A, B, x, z, y, c, rho):\n",
    "    return y + rho*(np.dot(A, x) + np.dot(B, z) - c)"
   ]
  },
  {
   "cell_type": "code",
   "execution_count": 104,
   "metadata": {},
   "outputs": [],
   "source": [
    "def calc_z(A, B, x, y, c, rho):\n",
    "    P = rho * np.dot(np.transpose(B), B)\n",
    "    q = (y.T.dot(B) + rho*x[0]*A.T.dot(B)-rho*c.T.dot(B)).T\n",
    "    G = -np.eye(6)\n",
    "    h = np.zeros(6)\n",
    "\n",
    "    G = matrix(G)\n",
    "    h = matrix(h)\n",
    "    P = matrix(P)\n",
    "    q = matrix(q)\n",
    "\n",
    "    solvers.options['show_progress'] = False\n",
    "    sol = solvers.qp(P, q, G, h)\n",
    "\n",
    "    return np.array([sol['x'][0], sol['x'][1], sol['x'][2], sol['x'][3], sol['x'][4], sol['x'][5]])"
   ]
  },
  {
   "cell_type": "code",
   "execution_count": 125,
   "metadata": {},
   "outputs": [
    {
     "name": "stdout",
     "output_type": "stream",
     "text": [
      "Solution:\n",
      "Optimal u:\n",
      "1.3622595449671785e-06\n",
      "5.0052515753494635\n",
      "1.3622595449671626e-06\n",
      "3.4400445706269815e-07\n",
      "1.8618871996192753e-07\n",
      "3.4400445706269254e-07\n",
      "Optimal x: ( 1.0270274485458392e-20 ,  5.005252407415832 )\n",
      "Optimal t:  5.013972809122369\n"
     ]
    }
   ],
   "source": [
    "A = np.array([[1.], [0.]])\n",
    "B = np.array([[-1.]*6, [FP[0], FP[1], FP[2], FP[3], FP[4], FP[5]]])\n",
    "c = np.array([0., y])\n",
    "\n",
    "sol = ADMM(A, B, c)\n",
    "\n",
    "print(\"Solution:\")\n",
    "print(\"Optimal u:\")\n",
    "t = sol[0]\n",
    "x = np.array([0., 0.])\n",
    "for i in range(6):\n",
    "    print(addm_sol[i + 1])\n",
    "    x += addm_sol[i + 1]*feasible_reg[i]\n",
    "print(\"Optimal x: (\", x[0], \", \", x[1], \")\")\n",
    "print(\"Optimal t: \", t)"
   ]
  },
  {
   "cell_type": "markdown",
   "metadata": {},
   "source": [
    "Полученный результат сопадает с результатом, полученным в задании 2."
   ]
  },
  {
   "cell_type": "markdown",
   "metadata": {},
   "source": [
    "------------"
   ]
  },
  {
   "cell_type": "markdown",
   "metadata": {},
   "source": [
    "### Задание 4: Topic modeling, NMF"
   ]
  },
  {
   "cell_type": "markdown",
   "metadata": {},
   "source": [
    "Неотрицательное матричное разложение (non-negative matrix factorization, NMF)\n",
    "\n",
    "Идея NMF заключается в представлении матрицы наблюдений $X$ как произведение двух матриц с неотрицательными элементами: \n",
    "$$X \\approx WH$$\n",
    "\n",
    "где $W \\in \\mathbb{R}_+^{M \\times K}$, $H \\in \\mathbb{R}_+^{K \\times N}$, причем $K << \\min(M,N)$.\n",
    "\n",
    "$W$ и $H$ находятся как решение следующей задачи оптимизации:\n",
    "\n",
    "$$\\underset{W,H}{\\min} \\|X - WH\\|^2_F$$\n",
    "$$\\mathrm{s.t.} \\quad W_{ik} \\geq 0, H_{kj} \\geq 0$$"
   ]
  },
  {
   "cell_type": "markdown",
   "metadata": {},
   "source": [
    "Перепишем целевую функцию в следующем виде:\n",
    "\n",
    "$$\\|X - WH\\|_F^2 = \\|X - \\sum_k w_k h_k^T\\|_F^2 = \\|(X - \\sum_{k \\neq l} w_k h_k^T) - w_l h_l^T$$\n",
    "Здесь $w_k$ - $k$-ый столбец матрицы $W$, а $h_k^T$ - $k$-ая строка матрицы $H$.\n",
    "\n",
    "Алгоритм RRI заключается в попеременном обновлении столбцов матрицы $W$ и строк матрицы $H$, на каждом шаге которого решается задача вида:\n",
    "\n",
    "$$\\underset{u}{\\min} \\|G - uv^T\\|_F^2$$\n",
    "$$\\mathrm{s.t.} \\quad u \\geq 0$$\n",
    "\n",
    "Аналитическое решение получим с использованием ККТ-условий.\n",
    "\n",
    "Условие $u \\geq 0$ в стандартной форме запишется как $-u \\leq 0$\n",
    "\n",
    "Тогда запишем Лагранжиан для данной задачи:\n",
    "\n",
    "$$L(u, \\lambda) = \\|G - uv^T\\|_F^2 - \\lambda u$$\n",
    "\n",
    "Условия ККТ:\n",
    "\n",
    "$$\\nabla_u L = 0$$\n",
    "$$-u \\leq 0$$\n",
    "$$-\\lambda u = 0$$\n",
    "$$\\lambda \\geq 0$$\n",
    "\n",
    "Найдем $\\nabla_u L$\n",
    "\n",
    "В силу линейности градиента:\n",
    "$$\\nabla_uL = \\nabla_u(\\|G - uv^T\\|_F^2) - \\nabla_u(\\lambda u)$$\n",
    "\n",
    "Рассмотрим первое слагаемое:\n",
    "\n",
    "\\begin{equation*}\n",
    "    \\begin{split}\n",
    "        d(\\|G - uv^T\\|_F^2) &= d(\\mathrm{tr}((G - uv^T)^T(G - uv^T)))\\\\\n",
    "        &= d(\\mathrm{tr}(G^TG - G^Tuv^T - vu^TG + vu^Tuv^T))\\\\\n",
    "        &= d(\\mathrm{tr}(\\|G\\|_2^2 -2v^TG^Tu + \\|v\\|^2_2u^Tu))\\\\\n",
    "        &= \\mathrm{tr}(-d(2v^TG^Tu) + d(\\|v\\|^2_2u^Tu))\\\\\n",
    "        &= \\mathrm{tr}(-2v^TG^Tdu + 2\\|v\\|^2_2u^Tdu)\n",
    "    \\end{split}\n",
    "\\end{equation*}\n",
    "\n",
    "В итоге получаем, что:\n",
    "$$\\nabla_u(\\|G - uv^T\\|_F^2) = -2Gv +2\\|v\\|^2_2u$$\n",
    "\n",
    "Отсюда получаем:\n",
    "$$\\nabla_u L = -2Gu +2\\|v\\|^2_2u - \\lambda$$\n",
    "\n",
    "$$\\nabla_u L = 0$$\n",
    "$$-2Gu +2\\|v\\|^2_2u - \\lambda = 0$$\n",
    "\n",
    "Из третьего условия получаем 2 случая: либо $\\lambda = 0$, либо $u = 0$\n",
    "\n",
    "Если решение не тривиально и $u \\neq 0$, то получаем $\\lambda = 0$ и \n",
    "$$u = \\frac{Gv}{\\|v\\|^2_2}$$\n",
    "\n",
    "Аналогично для задачи \n",
    "$$\\underset{v}{\\min}\\|G - uv^T\\|_F^2$$\n",
    "$$\\mathrm{s.t.} \\quad u \\geq 0$$\n",
    "\n",
    "Нетривиальным решением является: $$v = \\frac{G^T u}{\\|u\\|^2_2}$$\n",
    "\n",
    "В случае решения задачи NMF:\n",
    "$$G = X - \\sum_{k \\neq l}w_k h_k^T$$"
   ]
  },
  {
   "cell_type": "code",
   "execution_count": 14,
   "metadata": {},
   "outputs": [],
   "source": [
    "from numpy.linalg import norm"
   ]
  },
  {
   "cell_type": "code",
   "execution_count": 16,
   "metadata": {},
   "outputs": [],
   "source": [
    "def obj(X, W, H):\n",
    "    return norm(X - np.dot(W, H), 'fro')"
   ]
  },
  {
   "cell_type": "code",
   "execution_count": 15,
   "metadata": {},
   "outputs": [],
   "source": [
    "def residual_matrix(X, W, H, l):\n",
    "    return X - (np.dot(W,H) - np.outer(W[:, l], H[l, :]))"
   ]
  },
  {
   "cell_type": "code",
   "execution_count": 17,
   "metadata": {},
   "outputs": [],
   "source": [
    "def proj_vec(x):\n",
    "    return np.maximum(0, x)"
   ]
  },
  {
   "cell_type": "code",
   "execution_count": 55,
   "metadata": {},
   "outputs": [],
   "source": [
    "def NMF(X, k):\n",
    "    m, n = X.shape\n",
    "    W = np.random.rand(m, k)\n",
    "    H = np.random.rand(k, n)\n",
    "    f_prev = float('inf')\n",
    "    j = 0\n",
    "    while f_prev - obj(X, W, H) > 1e-20:\n",
    "        f_prev = obj(X, W, H)\n",
    "        for i in range(k):\n",
    "            ui = W[:, i] \n",
    "            vi = H[i, :] \n",
    "            \n",
    "            G = residual_matrix(X, W, H, i)\n",
    "            \n",
    "            if np.all(ui == 0):\n",
    "                H[i, :] = 0\n",
    "            else:\n",
    "                H[i, :] = proj_vec(np.dot(G.T, ui)/(norm(ui)**2))\n",
    "                \n",
    "            if np.all(vi == 0):\n",
    "                W[:, i] = 0\n",
    "            else:\n",
    "                W[:, i] = proj_vec(np.dot(G, vi.T)/(norm(vi)**2))\n",
    "                \n",
    "        objective = norm(X - np.dot(W,H), 'fro')**2\n",
    "        print(\"Iter: %5d, Objective: %F\" % (j, objective))\n",
    "        j = j + 1\n",
    "\n",
    "    return W, H"
   ]
  },
  {
   "cell_type": "code",
   "execution_count": 27,
   "metadata": {},
   "outputs": [],
   "source": [
    "import numpy as np\n",
    "from sklearn.datasets import fetch_20newsgroups\n",
    "from sklearn import decomposition\n",
    "from scipy import linalg\n",
    "import matplotlib.pyplot as plt"
   ]
  },
  {
   "cell_type": "code",
   "execution_count": 28,
   "metadata": {},
   "outputs": [],
   "source": [
    "categories = ['alt.atheism', 'talk.religion.misc', 'comp.graphics', 'sci.space']\n",
    "remove = ('headers', 'footers', 'quotes')\n",
    "newsgroups_train = fetch_20newsgroups(subset='train', categories=categories, remove=remove)\n",
    "newsgroups_test = fetch_20newsgroups(subset='test', categories=categories, remove=remove)"
   ]
  },
  {
   "cell_type": "code",
   "execution_count": 29,
   "metadata": {},
   "outputs": [
    {
     "data": {
      "text/plain": [
       "((2034,), (2034,))"
      ]
     },
     "execution_count": 29,
     "metadata": {},
     "output_type": "execute_result"
    }
   ],
   "source": [
    "newsgroups_train.filenames.shape, newsgroups_train.target.shape"
   ]
  },
  {
   "cell_type": "code",
   "execution_count": 30,
   "metadata": {},
   "outputs": [
    {
     "data": {
      "text/plain": [
       "array(['comp.graphics', 'talk.religion.misc', 'sci.space'], dtype='<U18')"
      ]
     },
     "execution_count": 30,
     "metadata": {},
     "output_type": "execute_result"
    }
   ],
   "source": [
    "np.array(newsgroups_train.target_names)[newsgroups_train.target[:3]]"
   ]
  },
  {
   "cell_type": "code",
   "execution_count": 31,
   "metadata": {},
   "outputs": [],
   "source": [
    "from sklearn.feature_extraction.text import CountVectorizer, TfidfVectorizer"
   ]
  },
  {
   "cell_type": "code",
   "execution_count": 84,
   "metadata": {},
   "outputs": [
    {
     "name": "stdout",
     "output_type": "stream",
     "text": [
      "(26576, 2034)\n"
     ]
    }
   ],
   "source": [
    "vectorizer = CountVectorizer(stop_words='english')\n",
    "\n",
    "X = vectorizer.fit_transform(newsgroups_train.data).todense().T # (vocab, documents)\n",
    "\n",
    "print(X.shape)"
   ]
  },
  {
   "cell_type": "code",
   "execution_count": 33,
   "metadata": {},
   "outputs": [],
   "source": [
    "vocab = np.array(vectorizer.get_feature_names())"
   ]
  },
  {
   "cell_type": "code",
   "execution_count": 34,
   "metadata": {},
   "outputs": [
    {
     "name": "stdout",
     "output_type": "stream",
     "text": [
      "(26576,)\n"
     ]
    }
   ],
   "source": [
    "print(vocab.shape)"
   ]
  },
  {
   "cell_type": "code",
   "execution_count": 35,
   "metadata": {},
   "outputs": [
    {
     "data": {
      "text/plain": [
       "array(['cosmonauts', 'cosmos', 'cosponsored', 'cost', 'costa', 'costar',\n",
       "       'costing', 'costly', 'costruction', 'costs', 'cosy', 'cote',\n",
       "       'couched', 'couldn', 'council', 'councils', 'counsel',\n",
       "       'counselees', 'counselor', 'count'], dtype='<U80')"
      ]
     },
     "execution_count": 35,
     "metadata": {},
     "output_type": "execute_result"
    }
   ],
   "source": [
    "vocab[7000:7020]"
   ]
  },
  {
   "cell_type": "code",
   "execution_count": 36,
   "metadata": {},
   "outputs": [],
   "source": [
    "num_top_words=8\n",
    "\n",
    "def show_topics(topics):\n",
    "    top_words = lambda t: [vocab[i] for i in np.argsort(t)[:-num_top_words-1:-1]]\n",
    "    topic_words = ([top_words(t) for t in topics])\n",
    "    return [' '.join(t) for t in topic_words]"
   ]
  },
  {
   "cell_type": "markdown",
   "metadata": {},
   "source": [
    "$K = 3$"
   ]
  },
  {
   "cell_type": "code",
   "execution_count": 38,
   "metadata": {
    "collapsed": true
   },
   "outputs": [
    {
     "name": "stdout",
     "output_type": "stream",
     "text": [
      "Iter:     0, Objective: 693177.957919\n",
      "Iter:     1, Objective: 638083.477060\n",
      "Iter:     2, Objective: 623770.496904\n",
      "Iter:     3, Objective: 617239.625284\n",
      "Iter:     4, Objective: 610562.910135\n",
      "Iter:     5, Objective: 601969.647716\n",
      "Iter:     6, Objective: 594363.809645\n",
      "Iter:     7, Objective: 588603.854127\n",
      "Iter:     8, Objective: 584381.291490\n",
      "Iter:     9, Objective: 581837.973779\n",
      "Iter:    10, Objective: 580509.241341\n",
      "Iter:    11, Objective: 579651.120614\n",
      "Iter:    12, Objective: 578822.941284\n",
      "Iter:    13, Objective: 577891.418178\n",
      "Iter:    14, Objective: 576610.391769\n",
      "Iter:    15, Objective: 574619.147565\n",
      "Iter:    16, Objective: 571480.198993\n",
      "Iter:    17, Objective: 566969.860882\n",
      "Iter:    18, Objective: 561774.219085\n",
      "Iter:    19, Objective: 557376.325997\n",
      "Iter:    20, Objective: 554698.825685\n",
      "Iter:    21, Objective: 553332.732033\n",
      "Iter:    22, Objective: 552660.563718\n",
      "Iter:    23, Objective: 552300.333078\n",
      "Iter:    24, Objective: 552035.944835\n",
      "Iter:    25, Objective: 551813.153611\n",
      "Iter:    26, Objective: 551615.454672\n",
      "Iter:    27, Objective: 551434.743692\n",
      "Iter:    28, Objective: 551265.940972\n",
      "Iter:    29, Objective: 551105.821827\n",
      "Iter:    30, Objective: 550952.239201\n",
      "Iter:    31, Objective: 550804.001861\n",
      "Iter:    32, Objective: 550660.738253\n",
      "Iter:    33, Objective: 550522.538148\n",
      "Iter:    34, Objective: 550389.950326\n",
      "Iter:    35, Objective: 550263.858739\n",
      "Iter:    36, Objective: 550145.630913\n",
      "Iter:    37, Objective: 550037.062562\n",
      "Iter:    38, Objective: 549940.041653\n",
      "Iter:    39, Objective: 549855.630930\n",
      "Iter:    40, Objective: 549783.629660\n",
      "Iter:    41, Objective: 549723.104797\n",
      "Iter:    42, Objective: 549672.887641\n",
      "Iter:    43, Objective: 549631.447698\n",
      "Iter:    44, Objective: 549597.534077\n",
      "Iter:    45, Objective: 549570.013865\n",
      "Iter:    46, Objective: 549547.861067\n",
      "Iter:    47, Objective: 549530.203301\n",
      "Iter:    48, Objective: 549516.740378\n",
      "Iter:    49, Objective: 549506.894527\n",
      "Iter:    50, Objective: 549499.774469\n",
      "Iter:    51, Objective: 549494.640730\n",
      "Iter:    52, Objective: 549490.947684\n",
      "Iter:    53, Objective: 549488.295802\n",
      "Iter:    54, Objective: 549486.394246\n",
      "Iter:    55, Objective: 549485.033121\n",
      "Iter:    56, Objective: 549484.060553\n",
      "Iter:    57, Objective: 549483.366476\n",
      "Iter:    58, Objective: 549482.870403\n",
      "Iter:    59, Objective: 549482.513282\n",
      "Iter:    60, Objective: 549482.256002\n",
      "Iter:    61, Objective: 549482.070714\n",
      "Iter:    62, Objective: 549481.937349\n",
      "Iter:    63, Objective: 549481.841407\n",
      "Iter:    64, Objective: 549481.772411\n",
      "Iter:    65, Objective: 549481.722805\n",
      "Iter:    66, Objective: 549481.687149\n",
      "Iter:    67, Objective: 549481.661524\n",
      "Iter:    68, Objective: 549481.643111\n",
      "Iter:    69, Objective: 549481.629882\n",
      "Iter:    70, Objective: 549481.620380\n",
      "Iter:    71, Objective: 549481.613556\n",
      "Iter:    72, Objective: 549481.608656\n",
      "Iter:    73, Objective: 549481.605137\n",
      "Iter:    74, Objective: 549481.602610\n",
      "Iter:    75, Objective: 549481.600797\n",
      "Iter:    76, Objective: 549481.599494\n",
      "Iter:    77, Objective: 549481.598559\n",
      "Iter:    78, Objective: 549481.597888\n",
      "Iter:    79, Objective: 549481.597406\n",
      "Iter:    80, Objective: 549481.597060\n",
      "Iter:    81, Objective: 549481.596811\n",
      "Iter:    82, Objective: 549481.596633\n",
      "Iter:    83, Objective: 549481.596505\n"
     ]
    }
   ],
   "source": [
    "W, H = NMF(X, 3)"
   ]
  },
  {
   "cell_type": "code",
   "execution_count": 39,
   "metadata": {},
   "outputs": [
    {
     "name": "stdout",
     "output_type": "stream",
     "text": [
      "Norm of the residual: 741.270259\n"
     ]
    }
   ],
   "source": [
    "residual = X - np.dot(W, H)\n",
    "\n",
    "print(\"Norm of the residual: %f\" % (norm(residual, 'fro')))"
   ]
  },
  {
   "cell_type": "code",
   "execution_count": 40,
   "metadata": {
    "scrolled": true
   },
   "outputs": [
    {
     "data": {
      "text/plain": [
       "['space launch jesus god satellite people nasa matthew',\n",
       " 'edu graphics pub image data ftp mail available',\n",
       " 'jpeg image gif file color images format quality']"
      ]
     },
     "execution_count": 40,
     "metadata": {},
     "output_type": "execute_result"
    }
   ],
   "source": [
    "show_topics(W.T)"
   ]
  },
  {
   "cell_type": "markdown",
   "metadata": {},
   "source": [
    "$K = 5$"
   ]
  },
  {
   "cell_type": "code",
   "execution_count": 45,
   "metadata": {
    "collapsed": true
   },
   "outputs": [
    {
     "name": "stdout",
     "output_type": "stream",
     "text": [
      "Iter:     0, Objective: 605997.981653\n",
      "Iter:     1, Objective: 573182.436924\n",
      "Iter:     2, Objective: 562051.131599\n",
      "Iter:     3, Objective: 556697.774658\n",
      "Iter:     4, Objective: 554542.310236\n",
      "Iter:     5, Objective: 553557.150947\n",
      "Iter:     6, Objective: 552763.533123\n",
      "Iter:     7, Objective: 552031.343489\n",
      "Iter:     8, Objective: 551338.855783\n",
      "Iter:     9, Objective: 550756.130112\n",
      "Iter:    10, Objective: 550340.707527\n",
      "Iter:    11, Objective: 550072.060346\n",
      "Iter:    12, Objective: 549892.101709\n",
      "Iter:    13, Objective: 549768.181087\n",
      "Iter:    14, Objective: 549682.071345\n",
      "Iter:    15, Objective: 549621.976131\n",
      "Iter:    16, Objective: 549580.046628\n",
      "Iter:    17, Objective: 549550.787125\n",
      "Iter:    18, Objective: 549530.348719\n",
      "Iter:    19, Objective: 549516.037833\n",
      "Iter:    20, Objective: 549505.980684\n",
      "Iter:    21, Objective: 549498.889138\n",
      "Iter:    22, Objective: 549493.877364\n",
      "Iter:    23, Objective: 549490.328904\n",
      "Iter:    24, Objective: 549487.812690\n",
      "Iter:    25, Objective: 549486.026015\n",
      "Iter:    26, Objective: 549484.755319\n",
      "Iter:    27, Objective: 549483.850616\n",
      "Iter:    28, Objective: 549483.205817\n",
      "Iter:    29, Objective: 549482.745936\n",
      "Iter:    30, Objective: 549482.417755\n",
      "Iter:    31, Objective: 549482.183447\n",
      "Iter:    32, Objective: 549482.016100\n",
      "Iter:    33, Objective: 549481.896543\n",
      "Iter:    34, Objective: 549481.811110\n",
      "Iter:    35, Objective: 549481.750050\n",
      "Iter:    36, Objective: 549481.706404\n",
      "Iter:    37, Objective: 549481.675202\n",
      "Iter:    38, Objective: 549481.652876\n",
      "Iter:    39, Objective: 549481.636867\n",
      "Iter:    40, Objective: 549481.625380\n",
      "Iter:    41, Objective: 549481.617137\n",
      "Iter:    42, Objective: 549481.611222\n",
      "Iter:    43, Objective: 549481.606976\n",
      "Iter:    44, Objective: 549481.603930\n",
      "Iter:    45, Objective: 549481.601743\n",
      "Iter:    46, Objective: 549481.600173\n",
      "Iter:    47, Objective: 549481.599046\n",
      "Iter:    48, Objective: 549481.598237\n",
      "Iter:    49, Objective: 549481.597657\n",
      "Iter:    50, Objective: 549481.597240\n",
      "Iter:    51, Objective: 549481.596941\n",
      "Iter:    52, Objective: 549481.596726\n",
      "Iter:    53, Objective: 549481.596572\n",
      "Iter:    54, Objective: 549481.596461\n",
      "Iter:    55, Objective: 549481.596381\n",
      "Iter:    56, Objective: 549481.596324\n",
      "Iter:    57, Objective: 549481.596283\n",
      "Iter:    58, Objective: 549481.596254\n",
      "Iter:    59, Objective: 549481.596233\n",
      "Iter:    60, Objective: 549481.596218\n",
      "Iter:    61, Objective: 549481.596207\n",
      "Iter:    62, Objective: 549481.596199\n",
      "Iter:    63, Objective: 549481.596194\n",
      "Iter:    64, Objective: 549481.596189\n",
      "Iter:    65, Objective: 549481.596187\n",
      "Iter:    66, Objective: 549481.596185\n",
      "Iter:    67, Objective: 549481.596183\n",
      "Iter:    68, Objective: 549481.596182\n",
      "Iter:    69, Objective: 549481.596181\n",
      "Iter:    70, Objective: 549481.596181\n",
      "Iter:    71, Objective: 549481.596180\n",
      "Iter:    72, Objective: 549481.596180\n",
      "Iter:    73, Objective: 549481.596180\n",
      "Iter:    74, Objective: 549481.596180\n",
      "Iter:    75, Objective: 549481.596180\n",
      "Iter:    76, Objective: 549481.596179\n",
      "Iter:    77, Objective: 549481.596179\n",
      "Iter:    78, Objective: 549481.596179\n",
      "Iter:    79, Objective: 549481.596179\n",
      "Iter:    80, Objective: 549481.596179\n",
      "Iter:    81, Objective: 549481.596179\n",
      "Iter:    82, Objective: 549481.596179\n",
      "Iter:    83, Objective: 549481.596179\n",
      "Iter:    84, Objective: 549481.596179\n",
      "Iter:    85, Objective: 549481.596179\n",
      "Iter:    86, Objective: 549481.596179\n",
      "Iter:    87, Objective: 549481.596179\n",
      "Iter:    88, Objective: 549481.596179\n",
      "Iter:    89, Objective: 549481.596179\n"
     ]
    }
   ],
   "source": [
    "W, H = NMF(X, 5)"
   ]
  },
  {
   "cell_type": "code",
   "execution_count": 46,
   "metadata": {},
   "outputs": [
    {
     "name": "stdout",
     "output_type": "stream",
     "text": [
      "Norm of the residual: 741.270259\n"
     ]
    }
   ],
   "source": [
    "residual = X - np.dot(W, H)\n",
    "\n",
    "print(\"Norm of the residual: %f\" % (norm(residual, 'fro')))"
   ]
  },
  {
   "cell_type": "code",
   "execution_count": 47,
   "metadata": {},
   "outputs": [
    {
     "data": {
      "text/plain": [
       "['zyxel earthly earned earnest earnestly earnings earnshaw ears',\n",
       " 'zyxel earthly earned earnest earnestly earnings earnshaw ears',\n",
       " 'space launch jesus god satellite people nasa matthew',\n",
       " 'jpeg image gif file color images format quality',\n",
       " 'edu graphics pub image data ftp mail available']"
      ]
     },
     "execution_count": 47,
     "metadata": {},
     "output_type": "execute_result"
    }
   ],
   "source": [
    "show_topics(W.T)"
   ]
  },
  {
   "cell_type": "markdown",
   "metadata": {},
   "source": [
    "$K = 8$"
   ]
  },
  {
   "cell_type": "code",
   "execution_count": 60,
   "metadata": {
    "collapsed": true
   },
   "outputs": [
    {
     "name": "stdout",
     "output_type": "stream",
     "text": [
      "Iter:     0, Objective: 670314.073678\n",
      "Iter:     1, Objective: 612495.841733\n",
      "Iter:     2, Objective: 569346.602925\n",
      "Iter:     3, Objective: 557360.659862\n",
      "Iter:     4, Objective: 554044.988899\n",
      "Iter:     5, Objective: 552618.268993\n",
      "Iter:     6, Objective: 551761.321467\n",
      "Iter:     7, Objective: 551138.042470\n",
      "Iter:     8, Objective: 550674.754513\n",
      "Iter:     9, Objective: 550334.115418\n",
      "Iter:    10, Objective: 550086.997173\n",
      "Iter:    11, Objective: 549909.736787\n",
      "Iter:    12, Objective: 549783.547878\n",
      "Iter:    13, Objective: 549694.362560\n",
      "Iter:    14, Objective: 549631.526824\n",
      "Iter:    15, Objective: 549587.296377\n",
      "Iter:    16, Objective: 549556.192167\n",
      "Iter:    17, Objective: 549534.331990\n",
      "Iter:    18, Objective: 549518.946418\n",
      "Iter:    19, Objective: 549508.091265\n",
      "Iter:    20, Objective: 549500.411711\n",
      "Iter:    21, Objective: 549494.968514\n",
      "Iter:    22, Objective: 549491.106459\n",
      "Iter:    23, Objective: 549488.366815\n",
      "Iter:    24, Objective: 549486.421176\n",
      "Iter:    25, Objective: 549485.037299\n",
      "Iter:    26, Objective: 549484.051836\n",
      "Iter:    27, Objective: 549483.349455\n",
      "Iter:    28, Objective: 549482.848492\n",
      "Iter:    29, Objective: 549482.490995\n",
      "Iter:    30, Objective: 549482.235761\n",
      "Iter:    31, Objective: 549482.053473\n",
      "Iter:    32, Objective: 549481.923247\n",
      "Iter:    33, Objective: 549481.830193\n",
      "Iter:    34, Objective: 549481.763688\n",
      "Iter:    35, Objective: 549481.716152\n",
      "Iter:    36, Objective: 549481.682170\n",
      "Iter:    37, Objective: 549481.657866\n",
      "Iter:    38, Objective: 549481.640445\n",
      "Iter:    39, Objective: 549481.627946\n",
      "Iter:    40, Objective: 549481.618978\n",
      "Iter:    41, Objective: 549481.612543\n",
      "Iter:    42, Objective: 549481.607924\n",
      "Iter:    43, Objective: 549481.604610\n",
      "Iter:    44, Objective: 549481.602231\n",
      "Iter:    45, Objective: 549481.600523\n",
      "Iter:    46, Objective: 549481.599297\n",
      "Iter:    47, Objective: 549481.598418\n",
      "Iter:    48, Objective: 549481.597786\n",
      "Iter:    49, Objective: 549481.597333\n",
      "Iter:    50, Objective: 549481.597007\n",
      "Iter:    51, Objective: 549481.596774\n",
      "Iter:    52, Objective: 549481.596606\n",
      "Iter:    53, Objective: 549481.596486\n",
      "Iter:    54, Objective: 549481.596399\n",
      "Iter:    55, Objective: 549481.596337\n",
      "Iter:    56, Objective: 549481.596293\n",
      "Iter:    57, Objective: 549481.596261\n",
      "Iter:    58, Objective: 549481.596238\n",
      "Iter:    59, Objective: 549481.596221\n",
      "Iter:    60, Objective: 549481.596209\n",
      "Iter:    61, Objective: 549481.596201\n",
      "Iter:    62, Objective: 549481.596195\n",
      "Iter:    63, Objective: 549481.596190\n",
      "Iter:    64, Objective: 549481.596187\n",
      "Iter:    65, Objective: 549481.596185\n",
      "Iter:    66, Objective: 549481.596183\n",
      "Iter:    67, Objective: 549481.596182\n",
      "Iter:    68, Objective: 549481.596181\n",
      "Iter:    69, Objective: 549481.596181\n",
      "Iter:    70, Objective: 549481.596180\n",
      "Iter:    71, Objective: 549481.596180\n",
      "Iter:    72, Objective: 549481.596180\n",
      "Iter:    73, Objective: 549481.596180\n",
      "Iter:    74, Objective: 549481.596180\n",
      "Iter:    75, Objective: 549481.596179\n",
      "Iter:    76, Objective: 549481.596179\n",
      "Iter:    77, Objective: 549481.596179\n",
      "Iter:    78, Objective: 549481.596179\n",
      "Iter:    79, Objective: 549481.596179\n",
      "Iter:    80, Objective: 549481.596179\n",
      "Iter:    81, Objective: 549481.596179\n",
      "Iter:    82, Objective: 549481.596179\n",
      "Iter:    83, Objective: 549481.596179\n",
      "Iter:    84, Objective: 549481.596179\n",
      "Iter:    85, Objective: 549481.596179\n",
      "Iter:    86, Objective: 549481.596179\n",
      "Iter:    87, Objective: 549481.596179\n",
      "Iter:    88, Objective: 549481.596179\n",
      "Iter:    89, Objective: 549481.596179\n",
      "Iter:    90, Objective: 549481.596179\n"
     ]
    }
   ],
   "source": [
    "W, H = NMF(X, 8)"
   ]
  },
  {
   "cell_type": "code",
   "execution_count": 61,
   "metadata": {},
   "outputs": [
    {
     "name": "stdout",
     "output_type": "stream",
     "text": [
      "Norm of the residual: 741.270259\n"
     ]
    }
   ],
   "source": [
    "residual = X - np.dot(W, H)\n",
    "\n",
    "print(\"Norm of the residual: %f\" % (norm(residual, 'fro')))"
   ]
  },
  {
   "cell_type": "code",
   "execution_count": 62,
   "metadata": {},
   "outputs": [
    {
     "data": {
      "text/plain": [
       "['zyxel earthly earned earnest earnestly earnings earnshaw ears',\n",
       " 'zyxel earthly earned earnest earnestly earnings earnshaw ears',\n",
       " 'zyxel earthly earned earnest earnestly earnings earnshaw ears',\n",
       " 'zyxel earthly earned earnest earnestly earnings earnshaw ears',\n",
       " 'zyxel earthly earned earnest earnestly earnings earnshaw ears',\n",
       " 'space launch jesus god satellite people nasa matthew',\n",
       " 'edu graphics pub image data ftp mail available',\n",
       " 'jpeg image gif file color images format quality']"
      ]
     },
     "execution_count": 62,
     "metadata": {},
     "output_type": "execute_result"
    }
   ],
   "source": [
    "show_topics(W.T)"
   ]
  },
  {
   "cell_type": "markdown",
   "metadata": {},
   "source": [
    "$K = 10$"
   ]
  },
  {
   "cell_type": "code",
   "execution_count": 65,
   "metadata": {
    "collapsed": true
   },
   "outputs": [
    {
     "name": "stdout",
     "output_type": "stream",
     "text": [
      "Iter:     0, Objective: 651508.142968\n",
      "Iter:     1, Objective: 584959.704815\n",
      "Iter:     2, Objective: 576780.334172\n",
      "Iter:     3, Objective: 574545.683369\n",
      "Iter:     4, Objective: 573664.442679\n",
      "Iter:     5, Objective: 573274.823230\n",
      "Iter:     6, Objective: 573099.868301\n",
      "Iter:     7, Objective: 573003.311772\n",
      "Iter:     8, Objective: 572947.681033\n",
      "Iter:     9, Objective: 572914.167163\n",
      "Iter:    10, Objective: 572893.033425\n",
      "Iter:    11, Objective: 572878.759005\n",
      "Iter:    12, Objective: 572868.334569\n",
      "Iter:    13, Objective: 572860.198335\n",
      "Iter:    14, Objective: 572853.534137\n",
      "Iter:    15, Objective: 572847.946472\n",
      "Iter:    16, Objective: 572842.982266\n",
      "Iter:    17, Objective: 572838.415788\n",
      "Iter:    18, Objective: 572834.136794\n",
      "Iter:    19, Objective: 572830.029016\n",
      "Iter:    20, Objective: 572825.976528\n",
      "Iter:    21, Objective: 572821.812149\n",
      "Iter:    22, Objective: 572816.953064\n",
      "Iter:    23, Objective: 572811.164564\n",
      "Iter:    24, Objective: 572804.129909\n",
      "Iter:    25, Objective: 572795.444665\n",
      "Iter:    26, Objective: 572784.603254\n",
      "Iter:    27, Objective: 572770.819467\n",
      "Iter:    28, Objective: 572753.014509\n",
      "Iter:    29, Objective: 572729.747448\n",
      "Iter:    30, Objective: 572706.377679\n",
      "Iter:    31, Objective: 572677.946979\n",
      "Iter:    32, Objective: 572632.858577\n",
      "Iter:    33, Objective: 572551.715017\n",
      "Iter:    34, Objective: 572401.968543\n",
      "Iter:    35, Objective: 572121.911217\n",
      "Iter:    36, Objective: 571594.843585\n",
      "Iter:    37, Objective: 570613.468955\n",
      "Iter:    38, Objective: 568889.712944\n",
      "Iter:    39, Objective: 566512.431699\n",
      "Iter:    40, Objective: 563968.794892\n",
      "Iter:    41, Objective: 561482.108637\n",
      "Iter:    42, Objective: 559111.068643\n",
      "Iter:    43, Objective: 556826.816740\n",
      "Iter:    44, Objective: 554709.387922\n",
      "Iter:    45, Objective: 552909.859348\n",
      "Iter:    46, Objective: 551571.065723\n",
      "Iter:    47, Objective: 550702.556957\n",
      "Iter:    48, Objective: 550202.541680\n",
      "Iter:    49, Objective: 549921.771625\n",
      "Iter:    50, Objective: 549756.980570\n",
      "Iter:    51, Objective: 549658.487084\n",
      "Iter:    52, Objective: 549598.019042\n",
      "Iter:    53, Objective: 549559.833384\n",
      "Iter:    54, Objective: 549534.998436\n",
      "Iter:    55, Objective: 549518.514867\n",
      "Iter:    56, Objective: 549507.381713\n",
      "Iter:    57, Objective: 549499.736927\n",
      "Iter:    58, Objective: 549494.416956\n",
      "Iter:    59, Objective: 549490.683064\n",
      "Iter:    60, Objective: 549488.047938\n",
      "Iter:    61, Objective: 549486.180293\n",
      "Iter:    62, Objective: 549484.861072\n",
      "Iter:    63, Objective: 549483.926432\n",
      "Iter:    64, Objective: 549483.260884\n",
      "Iter:    65, Objective: 549482.786002\n",
      "Iter:    66, Objective: 549482.446859\n",
      "Iter:    67, Objective: 549482.204533\n",
      "Iter:    68, Objective: 549482.031336\n",
      "Iter:    69, Objective: 549481.907526\n",
      "Iter:    70, Objective: 549481.819012\n",
      "Iter:    71, Objective: 549481.755726\n",
      "Iter:    72, Objective: 549481.710475\n",
      "Iter:    73, Objective: 549481.678120\n",
      "Iter:    74, Objective: 549481.654971\n",
      "Iter:    75, Objective: 549481.638371\n",
      "Iter:    76, Objective: 549481.626459\n",
      "Iter:    77, Objective: 549481.617912\n",
      "Iter:    78, Objective: 549481.611778\n",
      "Iter:    79, Objective: 549481.607375\n",
      "Iter:    80, Objective: 549481.604216\n",
      "Iter:    81, Objective: 549481.601948\n",
      "Iter:    82, Objective: 549481.600320\n",
      "Iter:    83, Objective: 549481.599152\n",
      "Iter:    84, Objective: 549481.598313\n",
      "Iter:    85, Objective: 549481.597711\n",
      "Iter:    86, Objective: 549481.597279\n",
      "Iter:    87, Objective: 549481.596969\n",
      "Iter:    88, Objective: 549481.596746\n",
      "Iter:    89, Objective: 549481.596586\n",
      "Iter:    90, Objective: 549481.596471\n",
      "Iter:    91, Objective: 549481.596389\n",
      "Iter:    92, Objective: 549481.596330\n",
      "Iter:    93, Objective: 549481.596287\n",
      "Iter:    94, Objective: 549481.596257\n",
      "Iter:    95, Objective: 549481.596235\n",
      "Iter:    96, Objective: 549481.596219\n",
      "Iter:    97, Objective: 549481.596208\n",
      "Iter:    98, Objective: 549481.596200\n",
      "Iter:    99, Objective: 549481.596194\n",
      "Iter:   100, Objective: 549481.596190\n",
      "Iter:   101, Objective: 549481.596187\n",
      "Iter:   102, Objective: 549481.596185\n",
      "Iter:   103, Objective: 549481.596183\n",
      "Iter:   104, Objective: 549481.596182\n",
      "Iter:   105, Objective: 549481.596181\n",
      "Iter:   106, Objective: 549481.596181\n",
      "Iter:   107, Objective: 549481.596180\n",
      "Iter:   108, Objective: 549481.596180\n",
      "Iter:   109, Objective: 549481.596180\n",
      "Iter:   110, Objective: 549481.596180\n",
      "Iter:   111, Objective: 549481.596180\n",
      "Iter:   112, Objective: 549481.596179\n",
      "Iter:   113, Objective: 549481.596179\n",
      "Iter:   114, Objective: 549481.596179\n",
      "Iter:   115, Objective: 549481.596179\n",
      "Iter:   116, Objective: 549481.596179\n",
      "Iter:   117, Objective: 549481.596179\n",
      "Iter:   118, Objective: 549481.596179\n",
      "Iter:   119, Objective: 549481.596179\n",
      "Iter:   120, Objective: 549481.596179\n",
      "Iter:   121, Objective: 549481.596179\n",
      "Iter:   122, Objective: 549481.596179\n",
      "Iter:   123, Objective: 549481.596179\n",
      "Iter:   124, Objective: 549481.596179\n",
      "Iter:   125, Objective: 549481.596179\n"
     ]
    }
   ],
   "source": [
    "W, H = NMF(X, 10)"
   ]
  },
  {
   "cell_type": "code",
   "execution_count": 63,
   "metadata": {},
   "outputs": [
    {
     "name": "stdout",
     "output_type": "stream",
     "text": [
      "Norm of the residual: 741.270259\n"
     ]
    }
   ],
   "source": [
    "residual = X - np.dot(W, H)\n",
    "\n",
    "print(\"Norm of the residual: %f\" % (norm(residual, 'fro')))"
   ]
  },
  {
   "cell_type": "code",
   "execution_count": 66,
   "metadata": {},
   "outputs": [
    {
     "data": {
      "text/plain": [
       "['zyxel earthly earned earnest earnestly earnings earnshaw ears',\n",
       " 'zyxel earthly earned earnest earnestly earnings earnshaw ears',\n",
       " 'zyxel earthly earned earnest earnestly earnings earnshaw ears',\n",
       " 'zyxel earthly earned earnest earnestly earnings earnshaw ears',\n",
       " 'zyxel earthly earned earnest earnestly earnings earnshaw ears',\n",
       " 'zyxel earthly earned earnest earnestly earnings earnshaw ears',\n",
       " 'zyxel earthly earned earnest earnestly earnings earnshaw ears',\n",
       " 'jpeg image gif file color images format quality',\n",
       " 'space launch jesus god satellite people nasa matthew',\n",
       " 'edu graphics pub image data ftp mail available']"
      ]
     },
     "execution_count": 66,
     "metadata": {},
     "output_type": "execute_result"
    }
   ],
   "source": [
    "show_topics(W.T)"
   ]
  },
  {
   "cell_type": "code",
   "execution_count": 69,
   "metadata": {},
   "outputs": [],
   "source": [
    "def NMF_obj(X, k):\n",
    "    m, n = X.shape\n",
    "    W = np.random.rand(m, k)\n",
    "    H = np.random.rand(k, n)\n",
    "    f_prev = float('inf')\n",
    "    obj_vals = []\n",
    "    #for j in range(iter_num):  \n",
    "    j = 0\n",
    "    while f_prev - obj(X, W, H) > 1e-20:\n",
    "        f_prev = obj(X, W, H)\n",
    "        for i in range(k):\n",
    "            ui = W[:, i] \n",
    "            vi = H[i, :] \n",
    "            \n",
    "            G = residual_matrix(X, W, H, i)\n",
    "            \n",
    "            if np.all(ui == 0):\n",
    "                H[i, :] = 0\n",
    "            else:\n",
    "                H[i, :] = proj_vec(np.dot(G.T, ui)/(norm(ui)**2))\n",
    "                \n",
    "            if np.all(vi == 0):\n",
    "                W[:, i] = 0\n",
    "            else:\n",
    "                W[:, i] = proj_vec(np.dot(G, vi.T)/(norm(vi)**2))\n",
    "                \n",
    "        objective = norm(X - np.dot(W,H), 'fro')**2\n",
    "        obj_vals.append(objective)\n",
    "        print(\"Iter: %5d, Objective: %F\" % (j, objective))\n",
    "        j = j + 1\n",
    "            \n",
    "    return obj_vals, j"
   ]
  },
  {
   "cell_type": "code",
   "execution_count": 85,
   "metadata": {
    "collapsed": true
   },
   "outputs": [
    {
     "name": "stdout",
     "output_type": "stream",
     "text": [
      "Iter:     0, Objective: 669385.431794\n",
      "Iter:     1, Objective: 590313.445824\n",
      "Iter:     2, Objective: 578328.585169\n",
      "Iter:     3, Objective: 575419.341856\n",
      "Iter:     4, Objective: 574238.580129\n",
      "Iter:     5, Objective: 573601.191213\n",
      "Iter:     6, Objective: 573259.556489\n",
      "Iter:     7, Objective: 573075.046225\n",
      "Iter:     8, Objective: 572972.373567\n",
      "Iter:     9, Objective: 572913.483949\n",
      "Iter:    10, Objective: 572876.805221\n",
      "Iter:    11, Objective: 572852.971762\n",
      "Iter:    12, Objective: 572836.901628\n",
      "Iter:    13, Objective: 572825.519338\n",
      "Iter:    14, Objective: 572816.105138\n",
      "Iter:    15, Objective: 572806.993395\n",
      "Iter:    16, Objective: 572797.247783\n",
      "Iter:    17, Objective: 572786.016928\n",
      "Iter:    18, Objective: 572772.417701\n",
      "Iter:    19, Objective: 572755.456889\n",
      "Iter:    20, Objective: 572737.468278\n",
      "Iter:    21, Objective: 572719.329791\n",
      "Iter:    22, Objective: 572696.089715\n",
      "Iter:    23, Objective: 572662.753761\n",
      "Iter:    24, Objective: 572606.228278\n",
      "Iter:    25, Objective: 572503.102204\n",
      "Iter:    26, Objective: 572311.297075\n",
      "Iter:    27, Objective: 571951.179513\n",
      "Iter:    28, Objective: 571272.466223\n",
      "Iter:    29, Objective: 570025.570497\n",
      "Iter:    30, Objective: 567949.551317\n",
      "Iter:    31, Objective: 565431.492154\n",
      "Iter:    32, Objective: 562885.555510\n",
      "Iter:    33, Objective: 560385.531385\n",
      "Iter:    34, Objective: 558003.395397\n",
      "Iter:    35, Objective: 555809.639592\n",
      "Iter:    36, Objective: 553891.406910\n",
      "Iter:    37, Objective: 552348.547857\n",
      "Iter:    38, Objective: 551246.632632\n",
      "Iter:    39, Objective: 550544.131192\n",
      "Iter:    40, Objective: 550129.837823\n",
      "Iter:    41, Objective: 549881.566426\n",
      "Iter:    42, Objective: 549732.615378\n",
      "Iter:    43, Objective: 549642.576367\n",
      "Iter:    44, Objective: 549586.999804\n",
      "Iter:    45, Objective: 549551.874798\n",
      "Iter:    46, Objective: 549529.212427\n",
      "Iter:    47, Objective: 549514.309849\n",
      "Iter:    48, Objective: 549504.322149\n",
      "Iter:    49, Objective: 549497.510859\n",
      "Iter:    50, Objective: 549492.800170\n",
      "Iter:    51, Objective: 549489.512354\n",
      "Iter:    52, Objective: 549487.202132\n",
      "Iter:    53, Objective: 549485.572059\n",
      "Iter:    54, Objective: 549484.423544\n",
      "Iter:    55, Objective: 549483.611220\n",
      "Iter:    56, Objective: 549483.034060\n",
      "Iter:    57, Objective: 549482.623024\n",
      "Iter:    58, Objective: 549482.329907\n",
      "Iter:    59, Objective: 549482.120690\n",
      "Iter:    60, Objective: 549481.971272\n",
      "Iter:    61, Objective: 549481.864520\n",
      "Iter:    62, Objective: 549481.788230\n",
      "Iter:    63, Objective: 549481.733700\n",
      "Iter:    64, Objective: 549481.694719\n",
      "Iter:    65, Objective: 549481.666847\n",
      "Iter:    66, Objective: 549481.646887\n",
      "Iter:    67, Objective: 549481.632571\n",
      "Iter:    68, Objective: 549481.622298\n",
      "Iter:    69, Objective: 549481.614925\n",
      "Iter:    70, Objective: 549481.609635\n",
      "Iter:    71, Objective: 549481.605837\n",
      "Iter:    72, Objective: 549481.603112\n",
      "Iter:    73, Objective: 549481.601156\n",
      "Iter:    74, Objective: 549481.599752\n",
      "Iter:    75, Objective: 549481.598744\n",
      "Iter:    76, Objective: 549481.598020\n",
      "Iter:    77, Objective: 549481.597501\n",
      "Iter:    78, Objective: 549481.597128\n",
      "Iter:    79, Objective: 549481.596860\n",
      "Iter:    80, Objective: 549481.596668\n",
      "Iter:    81, Objective: 549481.596530\n",
      "Iter:    82, Objective: 549481.596431\n",
      "Iter:    83, Objective: 549481.596360\n",
      "Iter:    84, Objective: 549481.596309\n",
      "Iter:    85, Objective: 549481.596272\n",
      "Iter:    86, Objective: 549481.596246\n",
      "Iter:    87, Objective: 549481.596227\n",
      "Iter:    88, Objective: 549481.596214\n",
      "Iter:    89, Objective: 549481.596204\n",
      "Iter:    90, Objective: 549481.596197\n",
      "Iter:    91, Objective: 549481.596192\n",
      "Iter:    92, Objective: 549481.596188\n",
      "Iter:    93, Objective: 549481.596186\n",
      "Iter:    94, Objective: 549481.596184\n",
      "Iter:    95, Objective: 549481.596183\n",
      "Iter:    96, Objective: 549481.596182\n",
      "Iter:    97, Objective: 549481.596181\n",
      "Iter:    98, Objective: 549481.596181\n",
      "Iter:    99, Objective: 549481.596180\n",
      "Iter:   100, Objective: 549481.596180\n",
      "Iter:   101, Objective: 549481.596180\n",
      "Iter:   102, Objective: 549481.596180\n",
      "Iter:   103, Objective: 549481.596179\n",
      "Iter:   104, Objective: 549481.596179\n",
      "Iter:   105, Objective: 549481.596179\n",
      "Iter:   106, Objective: 549481.596179\n",
      "Iter:   107, Objective: 549481.596179\n",
      "Iter:   108, Objective: 549481.596179\n",
      "Iter:   109, Objective: 549481.596179\n",
      "Iter:   110, Objective: 549481.596179\n",
      "Iter:   111, Objective: 549481.596179\n",
      "Iter:   112, Objective: 549481.596179\n",
      "Iter:   113, Objective: 549481.596179\n",
      "Iter:   114, Objective: 549481.596179\n",
      "Iter:   115, Objective: 549481.596179\n",
      "Iter:   116, Objective: 549481.596179\n",
      "Iter:   117, Objective: 549481.596179\n",
      "Iter:   118, Objective: 549481.596179\n"
     ]
    }
   ],
   "source": [
    "obj_val, iter_num = NMF_obj(X, 3)"
   ]
  },
  {
   "cell_type": "code",
   "execution_count": 77,
   "metadata": {},
   "outputs": [],
   "source": [
    "import matplotlib.pyplot as plt"
   ]
  },
  {
   "cell_type": "markdown",
   "metadata": {},
   "source": [
    "График:"
   ]
  },
  {
   "cell_type": "code",
   "execution_count": 88,
   "metadata": {},
   "outputs": [
    {
     "data": {
      "text/plain": [
       "[<matplotlib.lines.Line2D at 0x7fc5e42d3be0>]"
      ]
     },
     "execution_count": 88,
     "metadata": {},
     "output_type": "execute_result"
    },
    {
     "data": {
      "image/png": "[encoded data removed]",
      "text/plain": [
       "<Figure size 432x288 with 1 Axes>"
      ]
     },
     "metadata": {
      "needs_background": "light"
     },
     "output_type": "display_data"
    }
   ],
   "source": [
    "plt.semilogy(range(iter_num), obj_val)"
   ]
  },
  {
   "cell_type": "markdown",
   "metadata": {},
   "source": [
    "--------------------------"
   ]
  },
  {
   "cell_type": "markdown",
   "metadata": {},
   "source": [
    "### Задание 5: LP - релаксация"
   ]
  },
  {
   "cell_type": "markdown",
   "metadata": {},
   "source": [
    "Неориентированный граф $G = (V, E)$.\n",
    "\n",
    "Независимое множество вершин - такое множество вершин графа $G$, что любые две вершины в нем не смежны, т.е. никакая пара вершин не соединена ребром.\n",
    "\n",
    "Задача о независимом множестве:\n",
    "\n",
    "$$\\underset{x}{\\min} -1^Tx$$\n",
    "$$\\mathrm{s.t.} \\quad x_i + x_j \\leq 1, \\forall (i, j) \\in E$$\n",
    "$$x_i \\in \\{0, 1\\}, \\forall i \\in V$$\n",
    "\n",
    "LP-релаксация данной задачи состоит в замене ограничения $x_i \\in \\{0, 1\\}$ на $0 \\leq x_i \\leq 1$"
   ]
  },
  {
   "cell_type": "markdown",
   "metadata": {},
   "source": [
    "Даны графы:\n",
    "\n",
    "<img src=\"graphs_pics.png\">"
   ]
  },
  {
   "cell_type": "code",
   "execution_count": 130,
   "metadata": {},
   "outputs": [],
   "source": [
    "def max_independent_set(graph):\n",
    "    independent_set = set({0})\n",
    "    for k in range(1, len(graph)):\n",
    "        vertices = get_vertices(graph[:, k])\n",
    "        if vertices.isdisjoint(independent_set):\n",
    "            independent_set.add(k)\n",
    "    return independent_set"
   ]
  },
  {
   "cell_type": "code",
   "execution_count": 133,
   "metadata": {},
   "outputs": [],
   "source": [
    "def get_vertices(col):\n",
    "    vertices = set()\n",
    "    for k in range(len(col)):\n",
    "        if col[k] == 1:\n",
    "            vertices.add(k)\n",
    "    return vertices"
   ]
  },
  {
   "cell_type": "markdown",
   "metadata": {},
   "source": [
    "**Первый граф.**\n",
    "\n",
    "1. Полный перебор вершин"
   ]
  },
  {
   "cell_type": "code",
   "execution_count": 139,
   "metadata": {},
   "outputs": [
    {
     "name": "stdout",
     "output_type": "stream",
     "text": [
      "1. max independent set:  {0, 2, 5, 6}\n"
     ]
    }
   ],
   "source": [
    "# матрица смежности\n",
    "M = np.array([[0, 1, 0, 0, 0, 0, 0],\n",
    "              [1, 0, 1, 0, 0, 0, 0],\n",
    "              [0, 1, 0, 1, 1, 0, 0],\n",
    "              [0, 0, 1, 0, 1, 1, 0],\n",
    "              [0, 0, 1, 1, 0, 0, 1],\n",
    "              [0, 0, 0, 1, 0, 0, 0],\n",
    "              [0, 0, 0, 0, 1, 0, 0]])\n",
    "\n",
    "print(\"1. max independent set: \", max_independent_set(M))"
   ]
  },
  {
   "cell_type": "markdown",
   "metadata": {},
   "source": [
    "2. LP-релаксация "
   ]
  },
  {
   "cell_type": "code",
   "execution_count": 140,
   "metadata": {},
   "outputs": [],
   "source": [
    "# Gx >= h\n",
    "\n",
    "# matrix G\n",
    "n = 7\n",
    "I = np.eye(n, n)\n",
    "A = np.concatenate((I, I*(-1)))\n",
    "\n",
    "B = np.array([[1, 1, 0, 0, 0, 0, 0],\n",
    "              [0, 1, 1, 0, 0, 0, 0],\n",
    "              [0, 0, 1, 1, 0, 0, 0],\n",
    "              [0, 0, 1, 0, 1, 0, 0],\n",
    "              [0, 0, 0, 1, 1, 0, 0],\n",
    "              [0, 0, 0, 1, 0, 1, 0],\n",
    "              [0, 0, 0, 0, 1, 0, 1]])\n",
    "G = np.concatenate((B, A))\n",
    "G = matrix(G)\n",
    "\n",
    "# vector h\n",
    "h1 = np.array([1.]*2*n)\n",
    "h2 = np.array([0.]*n)\n",
    "h = np.concatenate((h1, h2))\n",
    "h = matrix(h)\n",
    "\n",
    "# f(x) = c^T x\n",
    "c = matrix([-1.]*n)"
   ]
  },
  {
   "cell_type": "code",
   "execution_count": 141,
   "metadata": {},
   "outputs": [
    {
     "name": "stdout",
     "output_type": "stream",
     "text": [
      "     pcost       dcost       gap    pres   dres   k/t\n",
      " 0: -3.5000e+00 -2.1727e+01  4e+01  1e+00  3e+00  1e+00\n",
      " 1: -3.9135e+00 -5.3722e+00  1e+00  2e-01  4e-01  9e-01\n",
      " 2: -3.9545e+00 -4.2260e+00  2e-01  3e-02  6e-02  1e-01\n",
      " 3: -3.9993e+00 -4.0033e+00  3e-03  4e-04  9e-04  2e-03\n",
      " 4: -4.0000e+00 -4.0000e+00  3e-05  4e-06  9e-06  2e-05\n",
      " 5: -4.0000e+00 -4.0000e+00  3e-07  4e-08  9e-08  2e-07\n",
      "Optimal solution found.\n"
     ]
    }
   ],
   "source": [
    "sol = solvers.lp(c, G, h)"
   ]
  },
  {
   "cell_type": "code",
   "execution_count": 143,
   "metadata": {},
   "outputs": [
    {
     "name": "stdout",
     "output_type": "stream",
     "text": [
      "[[1.]\n",
      " [0.]\n",
      " [1.]\n",
      " [0.]\n",
      " [0.]\n",
      " [1.]\n",
      " [1.]]\n"
     ]
    }
   ],
   "source": [
    "x = np.array(sol['x'])\n",
    "print(np.round(x))"
   ]
  },
  {
   "cell_type": "markdown",
   "metadata": {},
   "source": [
    "В результате получаем множество, в которое входят вершины с номерами: 0, 2, 6, 7.\n",
    "    \n",
    "Полученное решение совпадает с решением, полученным полным перебором."
   ]
  },
  {
   "cell_type": "markdown",
   "metadata": {},
   "source": [
    "Проверка: $1^Tx^* \\geq \\frac{|V|}{2}$"
   ]
  },
  {
   "cell_type": "code",
   "execution_count": 153,
   "metadata": {},
   "outputs": [
    {
     "data": {
      "text/plain": [
       "array([ True])"
      ]
     },
     "execution_count": 153,
     "metadata": {},
     "output_type": "execute_result"
    }
   ],
   "source": [
    "sum(x) >= n/2"
   ]
  },
  {
   "cell_type": "markdown",
   "metadata": {},
   "source": [
    "Обобщение условий:\n",
    "Заменим $x_i + x_j \\leq 1$ на более общие условия $\\sum_{i \\in D}x_i \\leq \\alpha (D)$, где $D$ - связный подграф графа $G$, а $\\alpha (D)$ - его число независимости (число вершин в наибольшем независимом множестве $D$)"
   ]
  },
  {
   "cell_type": "code",
   "execution_count": 3,
   "metadata": {},
   "outputs": [],
   "source": [
    "# все подграфы, размер которых не превышает 3\n",
    "\n",
    "n = 7\n",
    "I = np.eye(n, n)\n",
    "A = np.concatenate((I, I*(-1)))\n",
    "\n",
    "B = np.array([[1, 1, 1, 0, 0, 0, 0],\n",
    "              [0, 1, 1, 1, 0, 0, 0],\n",
    "              [0, 1, 1, 0, 1, 0, 0],\n",
    "              [0, 0, 1, 1, 1, 0, 0],\n",
    "              [0, 0, 1, 1, 0, 1, 0],\n",
    "              [0, 0, 1, 0, 1, 0, 1],\n",
    "              [0, 0, 0, 1, 1, 1, 0],\n",
    "              [0, 0, 0, 1, 1, 0, 1],\n",
    "              [1, 1, 0, 0, 0, 0, 0],\n",
    "              [0, 1, 1, 0, 0, 0, 0],\n",
    "              [0, 0, 1, 1, 0, 0, 0],\n",
    "              [0, 0, 1, 0, 1, 0, 0],\n",
    "              [0, 0, 0, 1, 1, 0, 0],\n",
    "              [0, 0, 0, 1, 0, 1, 0],\n",
    "              [0, 0, 0, 0, 1, 0, 1]])\n",
    "G = np.concatenate((B, A))\n",
    "G = matrix(G)\n",
    "\n",
    "# vector h\n",
    "h1 = np.array([2., 2., 2., 1., 2., 2., 2., 2.])\n",
    "h2 = np.array([1.]*2*n)\n",
    "h3 = np.array([0.]*n)\n",
    "h = np.concatenate((h1, h2, h3))\n",
    "h = matrix(h)\n",
    "\n",
    "# f(x) = c^T x\n",
    "c = matrix([-1.]*n)"
   ]
  },
  {
   "cell_type": "code",
   "execution_count": 4,
   "metadata": {},
   "outputs": [
    {
     "name": "stdout",
     "output_type": "stream",
     "text": [
      "     pcost       dcost       gap    pres   dres   k/t\n",
      " 0: -4.1401e+00 -3.9236e+01  7e+01  1e+00  7e+00  1e+00\n",
      " 1: -4.1656e+00 -8.0351e+00  2e+00  2e-01  1e+00  1e+00\n",
      " 2: -3.9171e+00 -4.7489e+00  4e-01  4e-02  2e-01  2e-01\n",
      " 3: -3.9973e+00 -4.0252e+00  2e-02  1e-03  7e-03  5e-03\n",
      " 4: -4.0000e+00 -4.0003e+00  2e-04  1e-05  7e-05  5e-05\n",
      " 5: -4.0000e+00 -4.0000e+00  2e-06  1e-07  7e-07  5e-07\n",
      " 6: -4.0000e+00 -4.0000e+00  2e-08  1e-09  7e-09  5e-09\n",
      "Optimal solution found.\n"
     ]
    }
   ],
   "source": [
    "sol = solvers.lp(c, G, h)"
   ]
  },
  {
   "cell_type": "code",
   "execution_count": 6,
   "metadata": {},
   "outputs": [
    {
     "name": "stdout",
     "output_type": "stream",
     "text": [
      "[[1.]\n",
      " [0.]\n",
      " [1.]\n",
      " [0.]\n",
      " [0.]\n",
      " [1.]\n",
      " [1.]]\n"
     ]
    }
   ],
   "source": [
    "x = np.array(sol['x'])\n",
    "print(np.round(x))"
   ]
  },
  {
   "cell_type": "markdown",
   "metadata": {},
   "source": [
    "Проверка:"
   ]
  },
  {
   "cell_type": "code",
   "execution_count": 154,
   "metadata": {},
   "outputs": [
    {
     "data": {
      "text/plain": [
       "array([ True])"
      ]
     },
     "execution_count": 154,
     "metadata": {},
     "output_type": "execute_result"
    }
   ],
   "source": [
    "sum(x) >= n/2"
   ]
  },
  {
   "cell_type": "markdown",
   "metadata": {},
   "source": [
    "**Второй граф**\n",
    "\n",
    "1. Полный перебор вершин."
   ]
  },
  {
   "cell_type": "code",
   "execution_count": 156,
   "metadata": {},
   "outputs": [
    {
     "name": "stdout",
     "output_type": "stream",
     "text": [
      "2. max independent set:  {0, 2, 5}\n"
     ]
    }
   ],
   "source": [
    "# матрица смежности\n",
    "M = np.array([[0, 1, 0, 0, 0, 0, 0],\n",
    "              [1, 0, 1, 0, 0, 0, 0],\n",
    "              [0, 1, 0, 1, 1, 0, 0],\n",
    "              [0, 0, 1, 0, 1, 0, 0],\n",
    "              [0, 0, 1, 1, 0, 1, 0],\n",
    "              [0, 0, 0, 0, 1, 0, 1],\n",
    "              [0, 0, 0, 0, 0, 1, 0]])\n",
    "\n",
    "print(\"2. max independent set: \", max_independent_set(M))"
   ]
  },
  {
   "cell_type": "markdown",
   "metadata": {},
   "source": [
    "2. LP-релаксация"
   ]
  },
  {
   "cell_type": "code",
   "execution_count": 157,
   "metadata": {},
   "outputs": [],
   "source": [
    "n = 7\n",
    "I = np.eye(n, n)\n",
    "A = np.concatenate((I, I*(-1)))\n",
    "\n",
    "B = np.array([[1, 1, 0, 0, 0, 0, 0],\n",
    "              [0, 1, 1, 0, 0, 0, 0],\n",
    "              [0, 0, 1, 1, 0, 0, 0],\n",
    "              [0, 0, 1, 0, 1, 0, 0],\n",
    "              [0, 0, 0, 1, 1, 0, 0],\n",
    "              [0, 0, 0, 0, 1, 1, 0],\n",
    "              [0, 0, 0, 0, 0, 1, 1]])\n",
    "G = np.concatenate((B, A))\n",
    "G = matrix(G)\n",
    "\n",
    "h1 = np.array([1.]*2*n)\n",
    "h2 = np.array([0.]*n)\n",
    "h = np.concatenate((h1, h2))\n",
    "h = matrix(h)\n",
    "\n",
    "c = matrix([-1.]*n)"
   ]
  },
  {
   "cell_type": "code",
   "execution_count": 158,
   "metadata": {},
   "outputs": [
    {
     "name": "stdout",
     "output_type": "stream",
     "text": [
      "     pcost       dcost       gap    pres   dres   k/t\n",
      " 0: -3.5000e+00 -2.1457e+01  4e+01  1e+00  3e+00  1e+00\n",
      " 1: -3.7783e+00 -5.2722e+00  1e+00  2e-01  4e-01  9e-01\n",
      " 2: -3.5457e+00 -3.7428e+00  1e-01  2e-02  5e-02  1e-01\n",
      " 3: -3.5005e+00 -3.5026e+00  1e-03  2e-04  5e-04  1e-03\n",
      " 4: -3.5000e+00 -3.5000e+00  1e-05  2e-06  5e-06  1e-05\n",
      " 5: -3.5000e+00 -3.5000e+00  1e-07  2e-08  5e-08  1e-07\n",
      "Optimal solution found.\n"
     ]
    }
   ],
   "source": [
    "sol = solvers.lp(c, G, h)"
   ]
  },
  {
   "cell_type": "code",
   "execution_count": 159,
   "metadata": {
    "scrolled": true
   },
   "outputs": [
    {
     "name": "stdout",
     "output_type": "stream",
     "text": [
      "[[0.65401149]\n",
      " [0.34598852]\n",
      " [0.50000001]\n",
      " [0.5       ]\n",
      " [0.50000001]\n",
      " [0.34598852]\n",
      " [0.65401149]]\n"
     ]
    }
   ],
   "source": [
    "x = np.array(sol['x'])\n",
    "print(x)"
   ]
  },
  {
   "cell_type": "markdown",
   "metadata": {},
   "source": [
    "Проверка:"
   ]
  },
  {
   "cell_type": "code",
   "execution_count": 160,
   "metadata": {},
   "outputs": [
    {
     "data": {
      "text/plain": [
       "array([ True])"
      ]
     },
     "execution_count": 160,
     "metadata": {},
     "output_type": "execute_result"
    }
   ],
   "source": [
    "s = sum(x)\n",
    "s >= n/2"
   ]
  },
  {
   "cell_type": "markdown",
   "metadata": {},
   "source": [
    "Обобщение условий:\n",
    "\n",
    "1. Рассмотрим все подграфы, размер которых не превышает 3"
   ]
  },
  {
   "cell_type": "code",
   "execution_count": 7,
   "metadata": {},
   "outputs": [],
   "source": [
    "# matrix G\n",
    "n = 7\n",
    "I = np.eye(n, n)\n",
    "A = np.concatenate((I, I*(-1)))\n",
    "# все подграфы, размер которых не превышает 3\n",
    "B = np.array([[1, 1, 1, 0, 0, 0, 0],\n",
    "              [0, 1, 1, 1, 0, 0, 0],\n",
    "              [0, 1, 1, 0, 1, 0, 0],\n",
    "              [0, 0, 1, 1, 1, 0, 0],\n",
    "              [0, 0, 1, 0, 1, 1, 0],\n",
    "              [0, 0, 0, 1, 1, 1, 0],\n",
    "              [0, 0, 0, 0, 1, 1, 1],\n",
    "              [1, 1, 0, 0, 0, 0, 0],\n",
    "              [0, 1, 1, 0, 0, 0, 0],\n",
    "              [0, 0, 1, 1, 0, 0, 0],\n",
    "              [0, 0, 1, 0, 1, 0, 0],\n",
    "              [0, 0, 0, 1, 1, 0, 0],\n",
    "              [0, 0, 0, 0, 1, 1, 0],\n",
    "              [0, 0, 0, 0, 0, 1, 1]])\n",
    "\n",
    "G = np.concatenate((B, A))\n",
    "G = matrix(G)\n",
    "\n",
    "# vector h\n",
    "h1 = np.array([2., 2., 2., 1., 2., 2., 2.])\n",
    "h2 = np.array([1.]*2*n)\n",
    "h3 = np.array([0.]*n)\n",
    "h = np.concatenate((h1, h2, h3))\n",
    "h = matrix(h)\n",
    "\n",
    "# f(x) = c^T x\n",
    "c = matrix([-1.]*n)"
   ]
  },
  {
   "cell_type": "code",
   "execution_count": 8,
   "metadata": {},
   "outputs": [
    {
     "name": "stdout",
     "output_type": "stream",
     "text": [
      "     pcost       dcost       gap    pres   dres   k/t\n",
      " 0: -3.9774e+00 -3.6903e+01  7e+01  1e+00  7e+00  1e+00\n",
      " 1: -3.7745e+00 -8.7785e+00  4e+00  2e-01  1e+00  1e+00\n",
      " 2: -3.0232e+00 -3.2081e+00  1e-01  8e-03  4e-02  1e-02\n",
      " 3: -3.0002e+00 -3.0021e+00  1e-03  8e-05  4e-04  1e-04\n",
      " 4: -3.0000e+00 -3.0000e+00  1e-05  8e-07  4e-06  1e-06\n",
      " 5: -3.0000e+00 -3.0000e+00  1e-07  8e-09  4e-08  1e-08\n",
      "Optimal solution found.\n"
     ]
    }
   ],
   "source": [
    "sol = solvers.lp(c, G, h)"
   ]
  },
  {
   "cell_type": "code",
   "execution_count": 9,
   "metadata": {
    "scrolled": true
   },
   "outputs": [
    {
     "name": "stdout",
     "output_type": "stream",
     "text": [
      "[[0.53080708]\n",
      " [0.46919293]\n",
      " [0.31978973]\n",
      " [0.36042055]\n",
      " [0.31978973]\n",
      " [0.46919293]\n",
      " [0.53080708]]\n"
     ]
    }
   ],
   "source": [
    "x = np.array(sol['x'])\n",
    "print(x)"
   ]
  },
  {
   "cell_type": "markdown",
   "metadata": {},
   "source": [
    "2. Рассмотрим все подграфы, размер которых не превышает 4"
   ]
  },
  {
   "cell_type": "code",
   "execution_count": 10,
   "metadata": {},
   "outputs": [],
   "source": [
    "# matrix G\n",
    "n = 7\n",
    "I = np.eye(n, n)\n",
    "A = np.concatenate((I, I*(-1)))\n",
    "# все подграфы, размер которых не превышает 4\n",
    "B = np.array([[1, 1, 1, 0, 0, 0, 0],\n",
    "              [0, 1, 1, 1, 0, 0, 0],\n",
    "              [0, 1, 1, 0, 1, 0, 0],\n",
    "              [0, 0, 1, 1, 1, 0, 0],\n",
    "              [0, 0, 1, 0, 1, 1, 0],\n",
    "              [0, 0, 0, 1, 1, 1, 0],\n",
    "              [0, 0, 0, 0, 1, 1, 1],\n",
    "              [1, 1, 0, 0, 0, 0, 0],\n",
    "              [0, 1, 1, 0, 0, 0, 0],\n",
    "              [0, 0, 1, 1, 0, 0, 0],\n",
    "              [0, 0, 1, 0, 1, 0, 0],\n",
    "              [0, 0, 0, 1, 1, 0, 0],\n",
    "              [0, 0, 0, 0, 1, 1, 0],\n",
    "              [0, 0, 0, 0, 0, 1, 1],\n",
    "              [1, 1, 1, 1, 0, 0, 0],\n",
    "              [1, 1, 1, 0, 1, 0, 0],\n",
    "              [0, 1, 1, 1, 1, 0, 0],\n",
    "              [0, 1, 1, 0, 1, 1, 0],\n",
    "              [0, 0, 1, 1, 1, 1, 0],\n",
    "              [0, 0, 0, 1, 1, 1, 1]])\n",
    "\n",
    "G = np.concatenate((B, A))\n",
    "G = matrix(G)\n",
    "\n",
    "# vector h\n",
    "h1 = np.array([2., 2., 2., 1., 2., 2., 2.])\n",
    "h2 = np.array([2.]*6)\n",
    "h3 = np.array([1.]*2*n)\n",
    "h4 = np.array([0.]*n)\n",
    "h = np.concatenate((h1, h2, h3, h4))\n",
    "h = matrix(h)\n",
    "\n",
    "# f(x) = c^T x\n",
    "c = matrix([-1.]*n)"
   ]
  },
  {
   "cell_type": "code",
   "execution_count": 11,
   "metadata": {
    "scrolled": true
   },
   "outputs": [
    {
     "name": "stdout",
     "output_type": "stream",
     "text": [
      "     pcost       dcost       gap    pres   dres   k/t\n",
      " 0: -3.2413e+00 -4.8949e+01  1e+02  1e+00  1e+01  1e+00\n",
      " 1: -2.1483e+00 -5.8706e+00  3e+00  1e-01  1e+00  8e-01\n",
      " 2: -1.9889e+00 -2.4176e+00  3e-01  2e-02  1e-01  9e-02\n",
      " 3: -2.0005e+00 -2.0134e+00  1e-02  5e-04  4e-03  2e-03\n",
      " 4: -2.0000e+00 -2.0001e+00  1e-04  5e-06  4e-05  2e-05\n",
      " 5: -2.0000e+00 -2.0000e+00  1e-06  5e-08  4e-07  2e-07\n",
      " 6: -2.0000e+00 -2.0000e+00  1e-08  5e-10  4e-09  2e-09\n",
      "Optimal solution found.\n"
     ]
    }
   ],
   "source": [
    "sol = solvers.lp(c, G, h)"
   ]
  },
  {
   "cell_type": "code",
   "execution_count": 13,
   "metadata": {},
   "outputs": [
    {
     "name": "stdout",
     "output_type": "stream",
     "text": [
      "[[4.68894049e-01]\n",
      " [2.50387787e-01]\n",
      " [2.80718164e-01]\n",
      " [3.52406482e-10]\n",
      " [4.81003471e-10]\n",
      " [3.57593002e-01]\n",
      " [6.42406998e-01]]\n"
     ]
    }
   ],
   "source": [
    "x = np.array(sol['x'])\n",
    "print(x)"
   ]
  },
  {
   "cell_type": "markdown",
   "metadata": {},
   "source": [
    "В данном случае однозначное решение не получается даже при увеличении количества условий."
   ]
  }
 ],
 "metadata": {
  "kernelspec": {
   "display_name": "Python 3",
   "language": "python",
   "name": "python3"
  },
  "language_info": {
   "codemirror_mode": {
    "name": "ipython",
    "version": 3
   },
   "file_extension": ".py",
   "mimetype": "text/x-python",
   "name": "python",
   "nbconvert_exporter": "python",
   "pygments_lexer": "ipython3",
   "version": "3.4.3"
  }
 },
 "nbformat": 4,
 "nbformat_minor": 2
}
