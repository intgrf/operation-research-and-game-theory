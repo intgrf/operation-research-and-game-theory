{
 "cells": [
  {
   "cell_type": "markdown",
   "metadata": {},
   "source": [
    "## HW 4\n",
    "\n",
    "__Выполнила Шарыпина Даша, группа 6382__"
   ]
  },
  {
   "cell_type": "code",
   "execution_count": 1,
   "metadata": {},
   "outputs": [],
   "source": [
    "import numpy as np\n",
    "from numpy.linalg import norm\n",
    "\n",
    "from cvxopt import solvers, matrix, sparse\n",
    "solvers.options['show_progress'] = False\n",
    "solvers.options['feastol'] = 10**(-10)\n",
    "\n",
    "import matplotlib\n",
    "import matplotlib.pyplot as plt\n",
    "%matplotlib inline\n",
    "\n",
    "from IPython.core.pylabtools import figsize\n",
    "figsize(7, 7)\n",
    "\n",
    "from matplotlib.patches import Polygon\n",
    "from matplotlib.collections import PatchCollection"
   ]
  },
  {
   "cell_type": "markdown",
   "metadata": {},
   "source": [
    "### Задание 3"
   ]
  },
  {
   "cell_type": "markdown",
   "metadata": {},
   "source": [
    "<img src=\"hw4_pic.png\">"
   ]
  },
  {
   "cell_type": "markdown",
   "metadata": {},
   "source": [
    "Пусть Игра 1 является игрой с нулевой суммой: $a = -b$, $c = -d$ и т.д., а выигрыши игрока $P_1$ равны:\n",
    "\n",
    "| a | c | e | g | i | k | m | p |\n",
    "|---|---|---|---|---|---|---|---|\n",
    "|10 |-11|-8 |14 |1  |2  |3  |0  |\n",
    "\n",
    "Найти равновесные смешанные стратегии, а также цену игры с помощью решения пары задач линейного программирования для игры в секвенциальной форме (используя библиотеку `cvxopt`)\n",
    "\n",
    "-------\n",
    "\n",
    "__Решение с помощью `cvxopt`__"
   ]
  },
  {
   "cell_type": "markdown",
   "metadata": {},
   "source": [
    "\n",
    "Пара задач линейного программирования:\n",
    "\n",
    "$$\\underset{x, q}{\\max} -f^T q$$\n",
    "$$s.t.\\quad A^Tx + F^T q \\geq 0, Ex = e$$\n",
    "$$x \\geq 0$$\n",
    "\n",
    "\n",
    "$$\\underset{y, p}{\\min}e^Tp$$\n",
    "$$s.t. \\quad -Ay + E^T p \\geq 0, Fy = f$$\n",
    "$$y \\geq 0$$\n",
    "\n",
    "-----------------\n",
    "\n",
    "Для первого игрока:\n",
    "\n",
    "\\begin{equation}\n",
    "A = \n",
    "    \\begin{bmatrix}\n",
    "        0 & 0 & 0 & 0 & 0 & 0\\\\\n",
    "        0 & 0 & 0 & 1 & 2 & 3\\\\\n",
    "        0 & 0 & 0 & 0 & 0 & 0\\\\\n",
    "        0 & 10 & -8 & 0 & 0 & 0\\\\\n",
    "        0 & -11 & 14 & 0 & 0 & 0\n",
    "    \\end{bmatrix}\n",
    "\\end{equation}\n",
    "\n",
    "План реализаций\n",
    "\n",
    "| № | $S_1$ | |\n",
    "|---|-------|-|\n",
    "|0| $()$ | 1   |\n",
    "|1 | $A$ | 1/3 |\n",
    "|2 | $B$ | 1/3 |\n",
    "|3 | $C$ | 1/3 |\n",
    "|4 | $AF$| 1/6 |\n",
    "|5 | $AG$| 1/6 |\n",
    "\n",
    "\n",
    "Уравнения\n",
    "\n",
    "$x_0 = 1$\n",
    "\n",
    "$x_1 + x_2 + x_3 = x_0$\n",
    "\n",
    "$x_4 + x_5 = x_1$\n",
    "\n",
    "Тогда:\n",
    "\n",
    "\\begin{equation}\n",
    "E = \n",
    "    \\begin{bmatrix}\n",
    "        1 & 0 & 0 & 0 & 0 & 0\\\\\n",
    "        -1 & 1 & 1 & 1 & 0 & 0\\\\\n",
    "        0 & -1 & 0 & 0 & 1 & 1\n",
    "    \\end{bmatrix}\n",
    "\\end{equation}\n",
    "\n",
    "$$e = (1, 0, 0)^T$$\n",
    "\n",
    "Для второго игрока:\n",
    "\n",
    "\\begin{equation}\n",
    "B = -A = \n",
    "    \\begin{bmatrix}\n",
    "        0 & 0 & 0 & 0 & 0 & 0\\\\\n",
    "        0 & 0 & 0 & -1 & -2 & -3\\\\\n",
    "        0 & 0 & 0 & 0 & 0 & 0\\\\\n",
    "        0 & -10 & 8 & 0 & 0 & 0\\\\\n",
    "        0 & 11 & -14 & 0 & 0 & 0\n",
    "    \\end{bmatrix}\n",
    "\\end{equation}\n",
    "\n",
    "План реализаций\n",
    "\n",
    "| № | $S_2$ | |\n",
    "|---|-------|-|\n",
    "|0| $()$ | 1   |\n",
    "|1 | $D$ | 1/2 |\n",
    "|2 | $E$ | 1/2 |\n",
    "|3 | $H$ | 1/3 |\n",
    "|4 | $I$| 1/3 |\n",
    "|5 | $J$| 1/3 |\n",
    "\n",
    "Уравнения\n",
    "\n",
    "$x_0 = 1$\n",
    "\n",
    "$x_1 + x_2 = x_0$\n",
    "\n",
    "$x_3 + x_4 + x_5 = x_0$\n",
    "\n",
    "\\begin{equation}\n",
    "F = \n",
    "    \\begin{bmatrix}\n",
    "        1 & 0 & 0 & 0 & 0 & 0\\\\\n",
    "        -1 & 1 & 1 & 0 & 0 & 0\\\\\n",
    "        -1 & 0 & 0 & 1 & 1 & 1\n",
    "    \\end{bmatrix}\n",
    "\\end{equation}\n",
    "\n",
    "$$f = (1, 0, 0)^T$$"
   ]
  },
  {
   "cell_type": "code",
   "execution_count": 68,
   "metadata": {},
   "outputs": [],
   "source": [
    "E = np.array([[1, 0, 0, 0, 0, 0],\n",
    "              [-1, 1, 1, 1, 0, 0],\n",
    "              [0, -1, 0, 0, 1, 1]])\n",
    "e = np.array([1, 0, 0]).reshape((3, 1))\n",
    "\n",
    "F = np.array([[1, 0, 0, 0, 0, 0],\n",
    "              [-1, 1, 1, 0, 0, 0],\n",
    "              [-1, 0, 0, 1, 1, 1]])\n",
    "f = np.array([1, 0, 0]).reshape((3, 1))"
   ]
  },
  {
   "cell_type": "code",
   "execution_count": 75,
   "metadata": {},
   "outputs": [],
   "source": [
    "A_seq = np.array([[0]*6,\n",
    "              [0]*6,\n",
    "              [0, 0, 0, 1, 2, 3],\n",
    "              [0]*6,\n",
    "              [0, 10, -8, 0, 0, 0], \n",
    "              [0, -11, 14, 0, 0, 0]])"
   ]
  },
  {
   "cell_type": "code",
   "execution_count": 70,
   "metadata": {},
   "outputs": [],
   "source": [
    "c = np.vstack((np.zeros((6, 1)), f))\n",
    "\n",
    "G1 = np.hstack((-A_seq.T, -F.T))\n",
    "G2 = np.hstack((-np.eye(6), np.zeros((6, 3))))\n",
    "\n",
    "G = np.vstack((G1, G2))\n",
    "h = np.zeros((12, 1))\n",
    "\n",
    "A = np.hstack((E, np.zeros((3, 3))))\n",
    "\n",
    "c = matrix(c, tc = 'd')\n",
    "G = matrix(G, tc = 'd')\n",
    "h = matrix(h, tc = 'd')\n",
    "A = matrix(A, tc = 'd')\n",
    "b = matrix(e, tc = 'd')"
   ]
  },
  {
   "cell_type": "code",
   "execution_count": 71,
   "metadata": {},
   "outputs": [
    {
     "name": "stdout",
     "output_type": "stream",
     "text": [
      "x\n",
      " [ 1.00e+00]\n",
      "[ 1.00e+00]\n",
      "[ 2.29e-07]\n",
      "[-8.41e-09]\n",
      "[ 5.81e-01]\n",
      "[ 4.19e-01]\n",
      "\n"
     ]
    }
   ],
   "source": [
    "# решение первой задачи\n",
    "\n",
    "x = solvers.lp(c, G, h, A, b)['x'][:6]\n",
    "print('x\\n', x)"
   ]
  },
  {
   "cell_type": "code",
   "execution_count": 72,
   "metadata": {},
   "outputs": [],
   "source": [
    "c = np.vstack((np.zeros((6, 1)), e))\n",
    "G1 = np.hstack((A_seq, -E.T))\n",
    "G2 = np.hstack((-np.eye(6), np.zeros((6, 3))))\n",
    "G = np.vstack((G1, G2))\n",
    "h = np.zeros((12, 1))\n",
    "\n",
    "A = np.hstack((F, np.zeros((3, 3))))\n",
    "b = f\n",
    "\n",
    "c = matrix(c, tc = 'd')\n",
    "G = matrix(G, tc = 'd')\n",
    "h = matrix(h, tc = 'd')\n",
    "A = matrix(A, tc = 'd')\n",
    "b = matrix(b, tc = 'd')"
   ]
  },
  {
   "cell_type": "code",
   "execution_count": 73,
   "metadata": {},
   "outputs": [
    {
     "name": "stdout",
     "output_type": "stream",
     "text": [
      "y\n",
      " [ 1.00e+00]\n",
      "[ 5.12e-01]\n",
      "[ 4.88e-01]\n",
      "[ 8.79e-01]\n",
      "[ 8.20e-02]\n",
      "[ 3.93e-02]\n",
      "\n"
     ]
    }
   ],
   "source": [
    "# решение второй задачи\n",
    "y = solvers.lp(c, G, h, A, b)['x'][:6]\n",
    "print('y\\n', y)"
   ]
  },
  {
   "cell_type": "code",
   "execution_count": 77,
   "metadata": {},
   "outputs": [
    {
     "name": "stdout",
     "output_type": "stream",
     "text": [
      "[[1.20930232]]\n"
     ]
    }
   ],
   "source": [
    "# цена игры\n",
    "print(x.T @ A_seq @ y)"
   ]
  },
  {
   "cell_type": "markdown",
   "metadata": {},
   "source": [
    "__Решение с помощью Chambolle Pock method__\n",
    "\n",
    "У нас есть следующая задача:\n",
    "\n",
    "$$\\underset{x \\in Q_1}{\\min} \\underset{y \\in Q_2}{\\max} x^T B y$$\n",
    "$$Q_1 = \\{ z | Ez = e, z \\geq 0 \\}$$\n",
    "$$Q_2 = \\{ z | Fz = f, z \\geq 0 \\}$$\n",
    "\n",
    "$Q_1, Q_2$ - множества допустимых решений\n",
    "\n",
    "\n",
    "Прямо-двойственный метод проксимальной точки (Chambolle-Pock method) разработан для задач вида:\n",
    "\n",
    "$$\\underset{u}{\\min} \\underset{v}{\\max} g(u) + u^TKv - h(v)$$\n",
    "\n",
    "где $g(u)$ и $h(v)$ - выпуклые функции\n",
    "\n",
    "Итерация $k$ метода состоит из следующих шагов:\n",
    "\n",
    "$$v_{k+1} = \\mathrm{prox}_h (v_k + \\sigma K^T z_n)$$\n",
    "$$u_{k+1} = \\mathrm{prox}_g (u_k - \\tau K v_{k+1}$$\n",
    "$$z_{k+1} = u_{k+1} + \\rho (u_{k+1} - u_k)$$\n",
    "\n",
    "В нашем случае $g(u) = \\mathbb{I}_{Q_1}(u)$ и $\\mathbb{I}_{Q_2}(v)$\n",
    "\n",
    "Тогда вычисление $\\mathrm{prox}_g(z)$ и $\\mathrm{prox}_h(z)$ представляет собой евклидовы проекции точки $z$ на выпуклые множества $Q_1$ и $Q_2$, заданные системой уравнений и ограничением на неотрицательность элементов вектора-решения.\n",
    "\n",
    "$B$ - матрица выигрышей второго игрока"
   ]
  },
  {
   "cell_type": "code",
   "execution_count": 9,
   "metadata": {},
   "outputs": [],
   "source": [
    "def euclidean_proj_simplex(v, s=1):\n",
    "    assert s > 0, \"Radius s must be strictly positive (%d <= 0)\" % s\n",
    "    n, = v.shape  # will raise ValueError if v is not 1-D\n",
    "    # check if we are already on the simplex\n",
    "    if v.sum() == s and np.alltrue(v >= 0):\n",
    "        # best projection: itself!\n",
    "        return v\n",
    "    # get the array of cumulative sums of a sorted (decreasing) copy of v\n",
    "    u = np.sort(v)[::-1]\n",
    "    cssv = np.cumsum(u)\n",
    "    # get the number of > 0 components of the optimal solution\n",
    "    rho = np.nonzero(u * np.arange(1, n+1) > (cssv - s))[0][-1]\n",
    "    # compute the Lagrange multiplier associated to the simplex constraint\n",
    "    theta = (cssv[rho] - s) / (rho + 1.0)\n",
    "    # compute the projection by thresholding v using theta\n",
    "    w = (v - theta).clip(min=0)\n",
    "    return w"
   ]
  },
  {
   "cell_type": "code",
   "execution_count": 83,
   "metadata": {},
   "outputs": [],
   "source": [
    "def primal_dual_method(K):\n",
    "    # параметры\n",
    "    sigma = tau = 1/norm(K)\n",
    "    rho = 1\n",
    "        \n",
    "    # инициализация\n",
    "    m, k = K.shape\n",
    "    v = np.random.uniform(0, 1, k)\n",
    "    u = np.random.uniform(0, 1, m)\n",
    "    z = np.random.uniform(0, 1, m)\n",
    "    z = euclidean_proj_simplex(z)\n",
    "    v = euclidean_proj_simplex(v)\n",
    "    u = euclidean_proj_simplex(u)\n",
    "    \n",
    "    norm_val = float('inf')\n",
    "    while norm_val > 10**(-5):\n",
    "        v = euclidean_proj_simplex(v + sigma * np.dot(K.T, z))\n",
    "        u_prev = u\n",
    "        u = euclidean_proj_simplex(u - tau * np.dot(K, v))\n",
    "        z = u + rho * (u - u_prev)\n",
    "        norm_val = norm(u - u_prev)\n",
    "    return u, v"
   ]
  },
  {
   "cell_type": "code",
   "execution_count": 84,
   "metadata": {},
   "outputs": [],
   "source": [
    "# матрица выигрышей второго игрока\n",
    "B = np.array([[-10, -10, -10, 8, 8, 8],\n",
    "              [11, 11, 11, -14, -14, -14],\n",
    "              [-1, -2, -3, -1, -2, -3],\n",
    "              [-1, -2, -3, -1, -2, -3],\n",
    "              [0]*6,\n",
    "              [0]*6])"
   ]
  },
  {
   "cell_type": "code",
   "execution_count": 85,
   "metadata": {},
   "outputs": [],
   "source": [
    "x, y = primal_dual_method(B)"
   ]
  },
  {
   "cell_type": "code",
   "execution_count": 90,
   "metadata": {},
   "outputs": [
    {
     "name": "stdout",
     "output_type": "stream",
     "text": [
      "[0.581 0.419 0.    0.    0.    0.   ]\n",
      "[0.511 0.    0.    0.488 0.    0.   ]\n"
     ]
    }
   ],
   "source": [
    "print(x.round(3))\n",
    "print(y.round(3))"
   ]
  },
  {
   "cell_type": "markdown",
   "metadata": {},
   "source": [
    "-------------"
   ]
  },
  {
   "cell_type": "markdown",
   "metadata": {},
   "source": [
    "__Решение с помощью экстраградиентного метода__\n",
    "\n",
    "Рассматриваем игру с нулевой суммой\n",
    "\n",
    "Можно сформулировать задачу поиска равновесия Нэша, как поиск решения вариационного неравенства $VI(K, F)$, где\n",
    "\n",
    "\\begin{equation*}\n",
    "F(\n",
    "    \\begin{bmatrix}\n",
    "     y\\\\\n",
    "     p\\\\\n",
    "     x\\\\\n",
    "     q\n",
    "    \\end{bmatrix}\n",
    ")=\n",
    "    \\begin{bmatrix}\n",
    "        0 & H^T\\\\\n",
    "        -H & 0\n",
    "    \\end{bmatrix}\n",
    "    \\begin{bmatrix}\n",
    "     y\\\\\n",
    "     p\\\\\n",
    "     x\\\\\n",
    "     q\n",
    "    \\end{bmatrix}\n",
    "    +\n",
    "    \\begin{bmatrix}\n",
    "     0\\\\\n",
    "     e\\\\\n",
    "     0\\\\\n",
    "     f\n",
    "    \\end{bmatrix}\n",
    "\\end{equation*}\n",
    "\n",
    "\n",
    "\\begin{equation*}\n",
    "H = \n",
    "\\begin{bmatrix}\n",
    "A & -E^T\\\\\n",
    "F & 0\n",
    "\\end{bmatrix}\n",
    "\\end{equation*}\n",
    "\n",
    "\n",
    "А множество допустимых решений $K$ определяется набором из двух ограничений, $y \\geq 0$ и $x \\geq 0$\n",
    "\n",
    "Проекция на это множество осуществяется обнулением отрицательных элементов векторов $y$ и $x$."
   ]
  },
  {
   "cell_type": "code",
   "execution_count": 11,
   "metadata": {},
   "outputs": [],
   "source": [
    "class Operator:\n",
    "    def __init__(self, F, Lconstant):\n",
    "        self.F = F\n",
    "        self.Lipschitz_constant = Lconstant\n",
    "    def __call__(self, x):\n",
    "        return self.F(x)\n",
    "    def lipschitz_constant(self):\n",
    "        return self.Lipschitz_constant"
   ]
  },
  {
   "cell_type": "code",
   "execution_count": 4,
   "metadata": {},
   "outputs": [],
   "source": [
    "def extragradient(F, x0, proj=lambda x: x):\n",
    "    max_iter = 10**6\n",
    "    alpha = 0.03\n",
    "    x = x0.copy()\n",
    "    is_converged = False\n",
    "    norm_val = float('inf')\n",
    "    for k in range(max_iter):\n",
    "        z = proj(x - alpha*F(x))\n",
    "        x_prev = x\n",
    "        x = proj(x - alpha*F(z))\n",
    "        if norm_val < 10**(-6):\n",
    "            is_converged = True\n",
    "            break\n",
    "        norm_val = norm(x - x_prev)\n",
    "    if is_converged:\n",
    "        print('Converged!')\n",
    "    else:\n",
    "        print('Not converged!')\n",
    "    return x"
   ]
  },
  {
   "cell_type": "code",
   "execution_count": 5,
   "metadata": {},
   "outputs": [],
   "source": [
    "E = np.array([[1, 0, 0, 0, 0, 0],\n",
    "              [-1, 1, 1, 1, 0, 0],\n",
    "              [0, -1, 0, 0, 1, 1]])\n",
    "e = np.array([1, 0, 0]).reshape((3, 1))\n",
    "\n",
    "F = np.array([[1, 0, 0, 0, 0, 0],\n",
    "              [-1, 1, 1, 0, 0, 0],\n",
    "              [-1, 0, 0, 1, 1, 1]])\n",
    "f = np.array([1, 0, 0]).reshape((3, 1))\n",
    "\n",
    "A = np.array([[0]*6,\n",
    "              [0]*6,\n",
    "              [0, 0, 0, 1, 2, 3],\n",
    "              [0]*6,\n",
    "              [0, 10, -8, 0, 0, 0], \n",
    "              [0, -11, 14, 0, 0, 0]])\n"
   ]
  },
  {
   "cell_type": "code",
   "execution_count": 6,
   "metadata": {},
   "outputs": [],
   "source": [
    "tmp1 = np.hstack((A, -E.T))\n",
    "m = F.shape[0]\n",
    "k = E.shape[0]\n",
    "tmp2 = np.hstack((F, np.zeros((m, k))))\n",
    "H = np.vstack((tmp1, tmp2))"
   ]
  },
  {
   "cell_type": "code",
   "execution_count": 7,
   "metadata": {},
   "outputs": [],
   "source": [
    "m, n = H.shape\n",
    "\n",
    "tmp1 = np.hstack((np.zeros((n, m)), H.T))\n",
    "tmp2 = np.hstack((-H, np.zeros((m, n))))\n",
    "\n",
    "M = np.vstack((tmp1, tmp2))"
   ]
  },
  {
   "cell_type": "code",
   "execution_count": 8,
   "metadata": {},
   "outputs": [],
   "source": [
    "v = np.vstack((np.zeros((6, 1)), e, np.zeros((6, 1)), f)).reshape((18, ))"
   ]
  },
  {
   "cell_type": "code",
   "execution_count": 9,
   "metadata": {},
   "outputs": [],
   "source": [
    "def func(x):\n",
    "    return M @ x + v\n",
    "\n",
    "dim = M.shape[0]\n",
    "Lconst = dim + 1\n",
    "F_ = Operator(func, Lconst)"
   ]
  },
  {
   "cell_type": "code",
   "execution_count": 11,
   "metadata": {},
   "outputs": [
    {
     "name": "stdout",
     "output_type": "stream",
     "text": [
      "Converged!\n",
      "x\n",
      "[1.00000665 1.00001281 0.         0.         0.58140582 0.41861219]\n",
      "y\n",
      "[1.    0.512 0.488 0.931 0.036 0.032]\n",
      "game price: 1.1888631407264552\n"
     ]
    }
   ],
   "source": [
    "def proj(x):\n",
    "    x[0:6] = np.maximum(0, x[0:6])\n",
    "    x[9:15] = np.maximum(0, x[9:15])\n",
    "    return x\n",
    "\n",
    "x0 = np.random.rand(dim,)\n",
    "\n",
    "res = extragradient(F_, x0, proj)\n",
    "\n",
    "y = res[:6]\n",
    "x = res[9:15]\n",
    "\n",
    "print('x\\n', x, sep = '')\n",
    "print('y\\n', y.round(3), sep = '')\n",
    "print('game price:', y.T @ A @ x)"
   ]
  },
  {
   "cell_type": "markdown",
   "metadata": {},
   "source": [
    "### Задание 4\n",
    "\n",
    "Найти цену игры и пару равновесных смешанных стратегий Игры 2 графическим методом.\n",
    "\n",
    "Найти цену игры и пару равновесных смешанных стратегий, решив пару соответствующих задач линейного программирования, используя библиотеку `cvxopt`\n",
    "\n",
    "__Игра 2__\n",
    "\n",
    "Игра с нулевой суммой, заданная матрицей выигрышей Игрока 1:\n",
    "\n",
    "\\begin{bmatrix}\n",
    " -1 & 3 & 6 & 0 & 4 & 1\\\\\n",
    " 5 & 1 & -2 & 4 & -1 & 0\n",
    "\\end{bmatrix}"
   ]
  },
  {
   "cell_type": "code",
   "execution_count": 2,
   "metadata": {},
   "outputs": [],
   "source": [
    "M = np.array([[-1, 3, 6, 0, 4, 1],\n",
    "              [5, 1, -2, 4, -1, 0]])"
   ]
  },
  {
   "cell_type": "markdown",
   "metadata": {},
   "source": [
    "Построим графики:"
   ]
  },
  {
   "cell_type": "code",
   "execution_count": 21,
   "metadata": {},
   "outputs": [
    {
     "data": {
      "image/png": "[encoded data removed]",
      "text/plain": [
       "<Figure size 432x432 with 1 Axes>"
      ]
     },
     "metadata": {
      "needs_background": "light"
     },
     "output_type": "display_data"
    }
   ],
   "source": [
    "figsize(6, 6)\n",
    "\n",
    "fig, ax = plt.subplots()\n",
    "patches = []\n",
    "\n",
    "ax.set_xlim([0, 1])\n",
    "ax.set_ylim([-4, 8])\n",
    "\n",
    "colors = [\"y-\", \"r-\", \"m-\", \"c-\", \"k-\", \"g-\"]\n",
    "\n",
    "for i in range(6):\n",
    "    plt.plot([0, 1], [M[1, i], M[0, i]], colors[i])\n",
    "    \n",
    "plt.show()"
   ]
  },
  {
   "cell_type": "markdown",
   "metadata": {},
   "source": [
    "Построим график функции $f(x)$ выигрышей игрока 1 как нижнюю огибающую построенных прямых:"
   ]
  },
  {
   "cell_type": "code",
   "execution_count": 38,
   "metadata": {},
   "outputs": [
    {
     "data": {
      "image/png": "[encoded data removed]",
      "text/plain": [
       "<Figure size 432x432 with 1 Axes>"
      ]
     },
     "metadata": {
      "needs_background": "light"
     },
     "output_type": "display_data"
    }
   ],
   "source": [
    "figsize(6, 6)\n",
    "\n",
    "fig, ax = plt.subplots()\n",
    "patches = []\n",
    "\n",
    "ax.set_xlim([0, 1])\n",
    "ax.set_ylim([-4, 8])\n",
    "\n",
    "plt.plot([0, 2/7], [-2, 2/7], 'm-')\n",
    "plt.plot([2/7, 5/7], [2/7, 5/7], 'g-')\n",
    "plt.plot([5/7, 1], [5/7, -1], 'y-')\n",
    "\n",
    "plt.show()"
   ]
  },
  {
   "cell_type": "markdown",
   "metadata": {},
   "source": [
    "Найдем точку максимума функции $f(x)$ и вычислим цену игры $\\nu(A) = f(x^*)$:\n",
    "\n",
    "Прямая зеленого цвета задается выражением: $1\\cdot x + 0\\cdot(1-x)$\n",
    "\n",
    "Прямая желтого цвета задается выражением: $-1\\cdot x + 5 \\cdot (1 - x)$\n",
    "\n",
    "Чтобы найти $x^*$ решим уравнение: $x = -x + 5(1 - x)$\n",
    "\n",
    "Получаем $x^* = \\frac{5}{7}$\n",
    "\n",
    "И __цена игры__ $\\nu(A) = \\frac{5}{7}$\n",
    "\n",
    "__Оптимальная стратегия игрока 1__: $p^* = (x^*, 1 - x^*) = (\\frac{5}{7}, \\frac{2}{7})$\n",
    "\n",
    "Графически:"
   ]
  },
  {
   "cell_type": "code",
   "execution_count": 25,
   "metadata": {},
   "outputs": [
    {
     "data": {
      "image/png": "[encoded data removed]",
      "text/plain": [
       "<Figure size 432x432 with 1 Axes>"
      ]
     },
     "metadata": {
      "needs_background": "light"
     },
     "output_type": "display_data"
    }
   ],
   "source": [
    "figsize(6, 6)\n",
    "\n",
    "fig, ax = plt.subplots()\n",
    "patches = []\n",
    "\n",
    "ax.set_xlim([0, 1])\n",
    "ax.set_ylim([-4, 8])\n",
    "\n",
    "plt.plot([0, 2/7], [-2, 2/7], 'k-')\n",
    "plt.plot([2/7, 5/7], [2/7, 5/7], 'k-')\n",
    "plt.plot([5/7, 1], [5/7, -1], 'k-')\n",
    "ax.plot(5/7, 5/7, \"or\", color = 'r')\n",
    "\n",
    "plt.show()"
   ]
  },
  {
   "cell_type": "markdown",
   "metadata": {},
   "source": [
    "Выберем две непараллельные линии, которые пересекаются в точке $x^*$:"
   ]
  },
  {
   "cell_type": "code",
   "execution_count": 43,
   "metadata": {},
   "outputs": [
    {
     "data": {
      "image/png": "[encoded data removed]",
      "text/plain": [
       "<Figure size 432x432 with 1 Axes>"
      ]
     },
     "metadata": {
      "needs_background": "light"
     },
     "output_type": "display_data"
    }
   ],
   "source": [
    "figsize(6,6)\n",
    "\n",
    "fig, ax = plt.subplots()\n",
    "patches = []\n",
    "\n",
    "ax.set_xlim([0, 1])\n",
    "ax.set_ylim([-4, 8])\n",
    "\n",
    "for i in [0, 5]:\n",
    "    plt.plot([0, 1], [M[1, i], M[0, i]], colors[i])\n",
    "ax.plot(5/7, 5/7, 'or', color = 'r')\n",
    "plt.show()"
   ]
  },
  {
   "cell_type": "markdown",
   "metadata": {},
   "source": [
    "Составим усеченную матрицу из столбцов, соответствующих выбранным пересекающимся прямым:\n",
    "\n",
    "\\begin{equation*}\n",
    "A' = \n",
    "    \\begin{bmatrix}\n",
    "        -1 & 1\\\\\n",
    "        5 & 0\n",
    "    \\end{bmatrix}\n",
    "\\end{equation*}\n",
    "\n",
    "$q^*_2 = q^*_3 = q^*_4 = q^*_5 = 0$\n",
    "\n",
    "Решим полученную усеченную игру 2x2 и получим ненулевые компоненты оптимальной стратегии игрока 2.\n",
    "\n",
    "$q^*_1$ найдем из уравнения: $-6q^*_1 + (1 - q^*_1) = 0$\n",
    "\n",
    "Получаем: $q^*_1 = \\frac{1}{7}$ и $q^*_6 = \\frac{6}{7}$\n",
    "\n",
    "В итоге __оптимальная стратегия второго игрока__: $q^* = (\\frac{1}{7}, 0, 0, 0, 0, \\frac{6}{7})$"
   ]
  },
  {
   "cell_type": "markdown",
   "metadata": {},
   "source": [
    "--------\n",
    "__Решение с помощью `cvxopt`__\n",
    "\n",
    "Найти цену игры и пару равновесных смешанных стратегий, решив пару соответствующих задач линейного программирования, используя библиотеку `cvxopt`"
   ]
  },
  {
   "cell_type": "code",
   "execution_count": 4,
   "metadata": {},
   "outputs": [],
   "source": [
    "from cvxopt import matrix, solvers, sparse"
   ]
  },
  {
   "cell_type": "code",
   "execution_count": 97,
   "metadata": {},
   "outputs": [],
   "source": [
    "A = matrix([[1., -3, -6, 0, -4, -1],\n",
    "            [-5, -1, 2, -4, 1, 0]])\n",
    "b = matrix([-1.]*6)\n",
    "c = matrix([1.]*2)"
   ]
  },
  {
   "cell_type": "code",
   "execution_count": 98,
   "metadata": {},
   "outputs": [],
   "source": [
    "slv = solvers.lp(c, A, b, solver = 'glpk')"
   ]
  },
  {
   "cell_type": "code",
   "execution_count": 99,
   "metadata": {
    "scrolled": true
   },
   "outputs": [
    {
     "name": "stdout",
     "output_type": "stream",
     "text": [
      "[ 1.00e+00]\n",
      "[ 4.00e-01]\n",
      "\n"
     ]
    }
   ],
   "source": [
    "print(slv['x'])"
   ]
  },
  {
   "cell_type": "code",
   "execution_count": 100,
   "metadata": {},
   "outputs": [
    {
     "name": "stdout",
     "output_type": "stream",
     "text": [
      "game price: 0.7142857142857141\n"
     ]
    }
   ],
   "source": [
    "gp = 1/slv['primal objective']\n",
    "print('game price:', gp)"
   ]
  },
  {
   "cell_type": "code",
   "execution_count": 101,
   "metadata": {
    "scrolled": true
   },
   "outputs": [
    {
     "name": "stdout",
     "output_type": "stream",
     "text": [
      "I player optimal strategy:\n",
      "[ 7.14e-01]\n",
      "[ 2.86e-01]\n",
      "\n"
     ]
    }
   ],
   "source": [
    "p = gp * slv['x']\n",
    "print('I player optimal strategy:\\n', p, sep = '')"
   ]
  },
  {
   "cell_type": "code",
   "execution_count": 102,
   "metadata": {},
   "outputs": [],
   "source": [
    "B = A.trans()\n",
    "q = matrix(np.eye(6))\n",
    "h = matrix(np.zeros((6, 1)))\n",
    "h = sparse([[c, h]])\n",
    "h = matrix(h, (8, 1), 'd')\n",
    "B = sparse([B, q])"
   ]
  },
  {
   "cell_type": "code",
   "execution_count": 103,
   "metadata": {},
   "outputs": [],
   "source": [
    "slv = solvers.lp(b, -B, h, solver = 'glpk')"
   ]
  },
  {
   "cell_type": "code",
   "execution_count": 104,
   "metadata": {},
   "outputs": [
    {
     "name": "stdout",
     "output_type": "stream",
     "text": [
      "[ 2.00e-01]\n",
      "[ 0.00e+00]\n",
      "[ 0.00e+00]\n",
      "[ 0.00e+00]\n",
      "[ 0.00e+00]\n",
      "[ 1.20e+00]\n",
      "\n"
     ]
    }
   ],
   "source": [
    "print(slv['x'])"
   ]
  },
  {
   "cell_type": "code",
   "execution_count": 105,
   "metadata": {},
   "outputs": [
    {
     "name": "stdout",
     "output_type": "stream",
     "text": [
      "game price:  0.7142857142857143\n"
     ]
    }
   ],
   "source": [
    "gp = -1/slv['primal objective']\n",
    "print('game price: ', gp)"
   ]
  },
  {
   "cell_type": "code",
   "execution_count": 106,
   "metadata": {
    "scrolled": true
   },
   "outputs": [
    {
     "name": "stdout",
     "output_type": "stream",
     "text": [
      "II player optimal strategy:\n",
      "[ 1.43e-01]\n",
      "[ 0.00e+00]\n",
      "[ 0.00e+00]\n",
      "[ 0.00e+00]\n",
      "[ 0.00e+00]\n",
      "[ 8.57e-01]\n",
      "\n"
     ]
    }
   ],
   "source": [
    "q = gp * slv['x']\n",
    "print('II player optimal strategy:\\n', q, sep = '')"
   ]
  },
  {
   "cell_type": "markdown",
   "metadata": {},
   "source": [
    "--------------------\n",
    "\n",
    "### Задание 5\n",
    "\n",
    "Пусть в игре 3 дано: $m = 10, P = 20, N = 10, \\beta_i = 1$ и $\\sigma = (2, 6, 5, 8, 3, 9, 5, 6, 7, 3)$.\n",
    "\n",
    "Найти цену игры и пару равновесных чистых стратегий.\n",
    "\n",
    "$$\\log (1 + \\frac{\\beta_i p_i}{\\sigma_i + n_i})$$\n",
    "\n",
    "#### Метод Франк-Вульфа\n"
   ]
  },
  {
   "cell_type": "code",
   "execution_count": 2,
   "metadata": {},
   "outputs": [],
   "source": [
    "from scipy.optimize import line_search, minimize_scalar\n",
    "\n",
    "def Frank_Wolfe(x0, grad, arg_min, max_iter=5000):\n",
    "    x = x0.copy()\n",
    "    k = 0\n",
    "    r = grad(x)\n",
    "    s = np.asarray(argmin(r))\n",
    "    d = np.sum(r*(x - s))\n",
    "    \n",
    "    while d > 1e-3 and k < max_iter:\n",
    "        r = grad(x)\n",
    "        s = np.asarray(argmin(r))\n",
    "        d = np.sum(r * (x - s))\n",
    "        p = s - x\n",
    "        alpha = 2./(k + 2)\n",
    "        x = x + alpha * p\n",
    "        k = k + 1\n",
    "\n",
    "    return x   "
   ]
  },
  {
   "cell_type": "code",
   "execution_count": 3,
   "metadata": {},
   "outputs": [],
   "source": [
    "m = 10\n",
    "sigma = np.array([[2,6,5,8,3,9,5,6,7,3]])\n",
    "sigma = sigma.T\n",
    "x = np.random.randn(2*m, 1)\n",
    "\n",
    "def L(x):\n",
    "    p = x[0:m]\n",
    "    n = x[m:2*m]\n",
    "    return -np.sum(np.log(1+(p/(sigma + n))))\n",
    "\n",
    "def L_grad(x):\n",
    "    p = x[0:m]\n",
    "    n = x[m:2*m]\n",
    "    grad_p = np.zeros((m,1))\n",
    "    for i in range(m):\n",
    "        grad_p[i] = -1/((p[i] + sigma[i] + n[i])*(sigma[i] + n[i]))\n",
    "    \n",
    "    grad_n = np.zeros((m,1))\n",
    "    for i in range(m):\n",
    "        grad_n[i] = -p[i]/((p[i] + sigma[i] + n[i])*(sigma[i] + n[i]))\n",
    "    \n",
    "    grad = np.vstack((grad_p,grad_n))\n",
    "    return grad"
   ]
  },
  {
   "cell_type": "code",
   "execution_count": 4,
   "metadata": {},
   "outputs": [],
   "source": [
    "def argmin(grad):\n",
    "    m = 10\n",
    "    P = 20\n",
    "    N = 10\n",
    "    G = -np.eye(2*m)\n",
    "    h = np.zeros((2*m, 1))\n",
    "\n",
    "    A1 = np.hstack((np.ones(m),np.zeros(m)))\n",
    "    A2 = np.hstack((np.zeros(m),np.ones(m)))\n",
    "    A = np.vstack((A1,A2))\n",
    "    b = np.vstack((P,N))\n",
    "\n",
    "    c = matrix(grad, tc='d')\n",
    "    G = matrix(G, tc='d')\n",
    "    h = matrix(h, tc='d')\n",
    "    A = matrix(A, tc='d')\n",
    "    b = matrix(b, tc='d')\n",
    "\n",
    "    z = solvers.lp(c, G, h, A, b)['x']\n",
    "    return z"
   ]
  },
  {
   "cell_type": "code",
   "execution_count": 5,
   "metadata": {},
   "outputs": [],
   "source": [
    "x0 = np.random.randn(2*m, 1)\n",
    "x = Frank_Wolfe(x0, L_grad, argmin, max_iter = 100)"
   ]
  },
  {
   "cell_type": "code",
   "execution_count": 6,
   "metadata": {},
   "outputs": [
    {
     "name": "stdout",
     "output_type": "stream",
     "text": [
      "Strategies:\n",
      "\n",
      "[[3.67920792e+00]\n",
      " [2.01782355e+00]\n",
      " [2.94455418e+00]\n",
      " [8.53618899e-10]\n",
      " [3.35841584e+00]\n",
      " [6.01878925e-10]\n",
      " [2.94851178e+00]\n",
      " [1.90297192e+00]\n",
      " [4.52547068e-09]\n",
      " [3.14851480e+00]]\n",
      "\n",
      "[[3.64554455e+00]\n",
      " [1.83433608e-10]\n",
      " [5.60396042e-01]\n",
      " [6.08012901e-11]\n",
      " [2.48118812e+00]\n",
      " [6.08012872e-11]\n",
      " [6.57425744e-01]\n",
      " [1.90729675e-10]\n",
      " [6.08012620e-11]\n",
      " [2.65544555e+00]]\n",
      "\n",
      " Game price: 2.8321581034884713\n"
     ]
    }
   ],
   "source": [
    "p = x[0:m]\n",
    "n = x[m:2*m]\n",
    "print(\"Strategies:\", p, n, sep=\"\\n\\n\",)\n",
    "print(\"\\n Game price:\", -L(x))"
   ]
  },
  {
   "cell_type": "markdown",
   "metadata": {},
   "source": [
    "--------------\n",
    "\n",
    "__Решение с помощью экстраградиентного метода__\n",
    "\n",
    "Сформулировать задачу как вариационное неравенство. Оценить постоянную Липшица $L$, необходимую для определения шага $\\lambda_k$, следующим образом: сгенерировать большое количество случайных пар точек $(x_i, y_i)$, принадлежащих множеству допустимых решений, найти $L = \\underset{i}{\\max} \\frac{\\|F(y_i) - F(x_i)\\|}{\\|y_i - x_i\\|}$\n",
    "\n",
    "В качестве критерия остановки использовать $\\|x_{k+1} - x_k\\| < 10^{-5}$\n",
    "\n",
    "Имеем задачу:\n",
    "\n",
    "$$\\underset{p}{\\max} \\underset{n}{min} \\sum_{i = 1}^m \\log (1 + \\frac{\\beta_i p_i}{\\sigma_i + n_i})$$\n",
    "$$\\mathrm{s.t.}\\quad 1^Tp = P$$\n",
    "$$1^Tn = N$$\n",
    "$$p_i \\geq 0, n_i \\geq 0$$\n",
    "\n",
    "Вариационное неравенство:\n",
    "\n",
    "$$F(x_*)^T(y - x_*) \\geq 0, \\forall y \\in K_z$$\n",
    "\n",
    "где\n",
    "\n",
    "$$F: \\quad K_z \\rightarrow \\mathbb{R}^{2m}$$\n",
    "\\begin{equation*}\n",
    "    z =\n",
    "    \\begin{pmatrix}\n",
    "    p\\\\\n",
    "    n\n",
    "    \\end{pmatrix}\n",
    "\\end{equation*}\n",
    "\\begin{equation*}\n",
    "A =\n",
    "\\begin{pmatrix}\n",
    "    1 & \\dots & 1 & 0 & \\dots & 0\\\\\n",
    "    0 & \\dots & 0 & 1 & \\dots & 1\n",
    "\\end{pmatrix}\n",
    "; b =\n",
    "\\begin{pmatrix}\n",
    "P\\\\\n",
    "N\n",
    "\\end{pmatrix}\n",
    "\\end{equation*}\n",
    "\n",
    "\n",
    "$$K_z = \\{z: Az = b, z_i \\geq 0\\}$$\n",
    "\n",
    "\n",
    "\\begin{equation*}\n",
    "   F(z)\n",
    "    \\begin{bmatrix}\n",
    "    \\nabla_p L(p, n)\\\\\n",
    "    -\\nabla_n L(p, n)\n",
    "    \\end{bmatrix}\n",
    "\\end{equation*}\n",
    "\n",
    "$$L(p, n) = - \\sum_{i = 1}^m \\log (1 + \\frac{\\beta_ip_i}{\\sigma_i + n_i})$$"
   ]
  },
  {
   "cell_type": "code",
   "execution_count": 7,
   "metadata": {},
   "outputs": [],
   "source": [
    "def projection(v):\n",
    "    p = v[0:m].reshape(m,)\n",
    "    n = v[m:2*m].reshape(m,)\n",
    "    p_proj = euclidean_proj_simplex(p, P)\n",
    "    n_proj = euclidean_proj_simplex(n, N)\n",
    "    return np.hstack((p_proj, n_proj))"
   ]
  },
  {
   "cell_type": "code",
   "execution_count": 15,
   "metadata": {},
   "outputs": [
    {
     "name": "stdout",
     "output_type": "stream",
     "text": [
      "Lipschitz constant estimation = 0.05683733507286498\n"
     ]
    }
   ],
   "source": [
    "m = 10\n",
    "sigma = np.array([[2,6,5,8,3,9,5,6,7,3]]).T\n",
    "\n",
    "def F(x):\n",
    "    p = x[0:m]\n",
    "    n = x[m:2*m]\n",
    "    grad_p = np.zeros((m,1))\n",
    "    for i in range(m):\n",
    "        grad_p[i] = -1/((p[i] + sigma[i] + n[i])*(sigma[i] + n[i]))\n",
    "    \n",
    "    grad_n = np.zeros((m,1))\n",
    "    for i in range(m):\n",
    "        grad_n[i] = -p[i]/((p[i] + sigma[i] + n[i])*(sigma[i] + n[i]))\n",
    "    \n",
    "    grad = np.vstack((grad_p,grad_n))\n",
    "    return grad\n",
    "\n",
    "k = 10**3\n",
    "x_ = np.zeros((k, 2*m))\n",
    "y_ = np.zeros((k, 2*m))\n",
    "P = 20; N = 10\n",
    "\n",
    "for i in range(k):\n",
    "    p = np.random.randn(m,)\n",
    "    n = np.random.randn(m,)\n",
    "    p_proj = euclidean_proj_simplex(p, P)\n",
    "    n_proj = euclidean_proj_simplex(n, N)\n",
    "    x_[i] = np.hstack((p_proj, n_proj))\n",
    "    \n",
    "for i in range(k):\n",
    "    p = np.random.randn(m,)\n",
    "    n = np.random.randn(m,)\n",
    "    p_proj = euclidean_proj_simplex(p, P)\n",
    "    n_proj = euclidean_proj_simplex(n, N)\n",
    "    y_[i] = np.hstack((p_proj, n_proj))\n",
    "\n",
    "L1 = np.zeros((k, 1))\n",
    "\n",
    "for i in range(k):\n",
    "    L1[i] = np.max((norm(F(y_[i,:])-F(x_[i,:])))/(norm(y_[i,:]-x_[i,:])))\n",
    "\n",
    "L = np.max(L1)\n",
    "\n",
    "print(\"Lipschitz constant estimation =\", L)\n",
    "L_const = L\n",
    "\n",
    "F = Operator(F, L_const)"
   ]
  },
  {
   "cell_type": "code",
   "execution_count": 16,
   "metadata": {},
   "outputs": [],
   "source": [
    "def extragradient(F, x0, proj):\n",
    "    max_iter = 10**6\n",
    "    alpha = 1./(F.lipschitz_constant() + 1e-2)\n",
    "    x = x0.copy()\n",
    "    is_converged = False\n",
    "    for k in range(max_iter):\n",
    "        z = proj(x - alpha*F(x).reshape(2*m,))\n",
    "        x = proj(x - alpha*F(z).reshape(2*m,))\n",
    "        if norm(x-z)/norm(x) < 1e-8:\n",
    "            is_converged = True\n",
    "            break\n",
    "    if is_converged:\n",
    "        print('Converged!')\n",
    "    else:\n",
    "        print('Not converged!')\n",
    "    return x"
   ]
  },
  {
   "cell_type": "code",
   "execution_count": 17,
   "metadata": {},
   "outputs": [],
   "source": [
    "def L(x):\n",
    "    p = x[0:m]\n",
    "    n = x[m:2*m]\n",
    "    return -np.sum(np.log(1 + (p/(sigma + n))))"
   ]
  },
  {
   "cell_type": "code",
   "execution_count": 19,
   "metadata": {},
   "outputs": [
    {
     "name": "stdout",
     "output_type": "stream",
     "text": [
      "Converged!\n",
      "Strategies:\n",
      "\n",
      "[[3.13784917]\n",
      " [2.15536322]\n",
      " [3.13784917]\n",
      " [0.        ]\n",
      " [3.13784917]\n",
      " [0.        ]\n",
      " [3.13784917]\n",
      " [2.15539095]\n",
      " [0.        ]\n",
      " [3.13784917]]\n",
      "\n",
      "[[3.6]\n",
      " [0. ]\n",
      " [0.6]\n",
      " [0. ]\n",
      " [2.6]\n",
      " [0. ]\n",
      " [0.6]\n",
      " [0. ]\n",
      " [0. ]\n",
      " [2.6]]\n",
      "\n",
      " Game price: 2.838323364950579\n"
     ]
    }
   ],
   "source": [
    "x0 = np.random.rand(2*m,)\n",
    "res = extragradient(F, x0, projection)\n",
    "x = np.asarray(res).reshape(2*m, 1)\n",
    "print(\"Strategies:\", x[:m],x[m:],sep=\"\\n\\n\")\n",
    "print(\"\\n Game price:\", -L(x))"
   ]
  }
 ],
 "metadata": {
  "kernelspec": {
   "display_name": "Python 3",
   "language": "python",
   "name": "python3"
  },
  "language_info": {
   "codemirror_mode": {
    "name": "ipython",
    "version": 3
   },
   "file_extension": ".py",
   "mimetype": "text/x-python",
   "name": "python",
   "nbconvert_exporter": "python",
   "pygments_lexer": "ipython3",
   "version": "3.7.3"
  }
 },
 "nbformat": 4,
 "nbformat_minor": 2
}
